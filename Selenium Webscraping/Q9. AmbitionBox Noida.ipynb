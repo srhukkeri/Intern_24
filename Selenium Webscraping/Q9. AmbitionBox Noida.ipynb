{
 "cells": [
  {
   "cell_type": "markdown",
   "id": "5e927903",
   "metadata": {},
   "source": [
    "### AmbitionBox"
   ]
  },
  {
   "cell_type": "code",
   "execution_count": 9,
   "id": "75c9edf2",
   "metadata": {},
   "outputs": [],
   "source": [
    "import selenium\n",
    "from selenium import webdriver\n",
    "import pandas as pd\n",
    "import warnings\n",
    "import requests\n",
    "warnings.filterwarnings(\"ignore\")\n",
    "import time\n",
    "\n",
    "driver = webdriver.Chrome(r'C:\\Users\\s.rajendra.hukkeri\\Downloads\\chromedriver_win32\\chromedriver.exe')\n",
    "url= 'https://www.ambitionbox.com/'\n",
    "driver.get(url)\n",
    "jobsearch = driver.find_element_by_xpath('//a[@class=\"link jobs\"]').click()\n",
    "time.sleep(2)\n",
    "search = driver.find_element_by_xpath('//input[@title=\"Enter Designation, Company or a Skill\"]')\n",
    "search.send_keys(\"Data Scientist\")\n",
    "driver.find_element_by_xpath('//button[@class=\"ab_btn search-btn round\"]').click()\n",
    "time.sleep(2)\n"
   ]
  },
  {
   "cell_type": "code",
   "execution_count": 10,
   "id": "996d09bf",
   "metadata": {},
   "outputs": [],
   "source": [
    "# clicking dropdown for location\n",
    "locationsearch = driver.find_element_by_xpath('/html/body/div/div/div/div[2]/div[2]/div[1]/div/div/div/div[2]')\n",
    "locationsearch.click()"
   ]
  },
  {
   "cell_type": "code",
   "execution_count": 11,
   "id": "5de14f6f",
   "metadata": {},
   "outputs": [],
   "source": [
    "#send value for location as Noida\n",
    "search1 = driver.find_element_by_xpath('//input[@placeholder=\"Search locations\"]')\n",
    "search1.send_keys(\"Noida\")\n"
   ]
  },
  {
   "cell_type": "code",
   "execution_count": 12,
   "id": "df7d4739",
   "metadata": {},
   "outputs": [],
   "source": [
    "#select \"Noida\" location\n",
    "search2 = driver.find_element_by_xpath('//label[@for=\"location_Noida\"]')\n",
    "search2.click()"
   ]
  },
  {
   "cell_type": "code",
   "execution_count": 13,
   "id": "b27ada02",
   "metadata": {},
   "outputs": [
    {
     "data": {
      "text/plain": [
       "['Data Scientist',\n",
       " 'EY GDS - Assistant Director - Data Science - AI/ML (15-20 yrs)',\n",
       " 'Opportunity | Tavant India',\n",
       " 'Looking For Senior Data Scientist For Denave',\n",
       " 'Lead Assistant Manager',\n",
       " 'CogniTensor - Data Scientist (1-2 yrs)',\n",
       " 'Data Scientist | Data Engineer | Machine Learning',\n",
       " 'Data Scientist - Machine Learning (5-14 yrs)',\n",
       " 'Manager Data Scientist',\n",
       " 'Data Scientist']"
      ]
     },
     "execution_count": 13,
     "metadata": {},
     "output_type": "execute_result"
    }
   ],
   "source": [
    "# scraping Company names\n",
    "company_name=[]\n",
    "company = driver.find_elements_by_xpath('//a[@class=\"title noclick\"]')\n",
    "for i in company:\n",
    "    company_name.append(i.text)\n",
    "company_name"
   ]
  },
  {
   "cell_type": "code",
   "execution_count": 39,
   "id": "0e1f9ff6",
   "metadata": {},
   "outputs": [
    {
     "data": {
      "text/plain": [
       "['17d ago',\n",
       " '1mon ago',\n",
       " '12d ago',\n",
       " '12d ago',\n",
       " '25d ago',\n",
       " '6d ago',\n",
       " '1mon ago',\n",
       " '10d ago',\n",
       " '1mon ago',\n",
       " '25d ago']"
      ]
     },
     "execution_count": 39,
     "metadata": {},
     "output_type": "execute_result"
    }
   ],
   "source": [
    "import re \n",
    "dates=[]\n",
    "date = driver.find_elements_by_xpath('//span[@class=\"body-small-l\"]')\n",
    "for j in date:\n",
    "    dates.append(j.text)\n",
    "dates\n",
    "dates_list=[]\n",
    "\n",
    "def Filter(dates, substr):\n",
    "    return [str for str in dates if\n",
    "             any(sub in str for sub in substr)]\n",
    "\n",
    "substr = ['ago']\n",
    "dates_list =Filter(dates, substr)\n",
    "dates_list"
   ]
  },
  {
   "cell_type": "code",
   "execution_count": 17,
   "id": "65e2e22b",
   "metadata": {},
   "outputs": [
    {
     "data": {
      "text/plain": [
       "['3.9', '3.7', '4.0', '4.0', '3.8', '3.8', '4.2', '4.1', '4.0', '3.7']"
      ]
     },
     "execution_count": 17,
     "metadata": {},
     "output_type": "execute_result"
    }
   ],
   "source": [
    "rating=[]\n",
    "rate = driver.find_elements_by_xpath('//span[@class=\"body-small\"]')\n",
    "for k in rate:\n",
    "    rating.append(k.text)\n",
    "rating"
   ]
  },
  {
   "cell_type": "code",
   "execution_count": 40,
   "id": "291a4a91",
   "metadata": {},
   "outputs": [
    {
     "data": {
      "text/html": [
       "<div>\n",
       "<style scoped>\n",
       "    .dataframe tbody tr th:only-of-type {\n",
       "        vertical-align: middle;\n",
       "    }\n",
       "\n",
       "    .dataframe tbody tr th {\n",
       "        vertical-align: top;\n",
       "    }\n",
       "\n",
       "    .dataframe thead th {\n",
       "        text-align: right;\n",
       "    }\n",
       "</style>\n",
       "<table border=\"1\" class=\"dataframe\">\n",
       "  <thead>\n",
       "    <tr style=\"text-align: right;\">\n",
       "      <th></th>\n",
       "      <th>Company_Name</th>\n",
       "      <th>Job Posted On</th>\n",
       "      <th>Rating</th>\n",
       "    </tr>\n",
       "  </thead>\n",
       "  <tbody>\n",
       "    <tr>\n",
       "      <th>0</th>\n",
       "      <td>Data Scientist</td>\n",
       "      <td>17d ago</td>\n",
       "      <td>3.9</td>\n",
       "    </tr>\n",
       "    <tr>\n",
       "      <th>1</th>\n",
       "      <td>EY GDS - Assistant Director - Data Science - A...</td>\n",
       "      <td>1mon ago</td>\n",
       "      <td>3.7</td>\n",
       "    </tr>\n",
       "    <tr>\n",
       "      <th>2</th>\n",
       "      <td>Opportunity | Tavant India</td>\n",
       "      <td>12d ago</td>\n",
       "      <td>4.0</td>\n",
       "    </tr>\n",
       "    <tr>\n",
       "      <th>3</th>\n",
       "      <td>Looking For Senior Data Scientist For Denave</td>\n",
       "      <td>12d ago</td>\n",
       "      <td>4.0</td>\n",
       "    </tr>\n",
       "    <tr>\n",
       "      <th>4</th>\n",
       "      <td>Lead Assistant Manager</td>\n",
       "      <td>25d ago</td>\n",
       "      <td>3.8</td>\n",
       "    </tr>\n",
       "    <tr>\n",
       "      <th>5</th>\n",
       "      <td>CogniTensor - Data Scientist (1-2 yrs)</td>\n",
       "      <td>6d ago</td>\n",
       "      <td>3.8</td>\n",
       "    </tr>\n",
       "    <tr>\n",
       "      <th>6</th>\n",
       "      <td>Data Scientist | Data Engineer | Machine Learning</td>\n",
       "      <td>1mon ago</td>\n",
       "      <td>4.2</td>\n",
       "    </tr>\n",
       "    <tr>\n",
       "      <th>7</th>\n",
       "      <td>Data Scientist - Machine Learning (5-14 yrs)</td>\n",
       "      <td>10d ago</td>\n",
       "      <td>4.1</td>\n",
       "    </tr>\n",
       "    <tr>\n",
       "      <th>8</th>\n",
       "      <td>Manager Data Scientist</td>\n",
       "      <td>1mon ago</td>\n",
       "      <td>4.0</td>\n",
       "    </tr>\n",
       "    <tr>\n",
       "      <th>9</th>\n",
       "      <td>Data Scientist</td>\n",
       "      <td>25d ago</td>\n",
       "      <td>3.7</td>\n",
       "    </tr>\n",
       "  </tbody>\n",
       "</table>\n",
       "</div>"
      ],
      "text/plain": [
       "                                        Company_Name Job Posted On Rating\n",
       "0                                     Data Scientist       17d ago    3.9\n",
       "1  EY GDS - Assistant Director - Data Science - A...      1mon ago    3.7\n",
       "2                         Opportunity | Tavant India       12d ago    4.0\n",
       "3       Looking For Senior Data Scientist For Denave       12d ago    4.0\n",
       "4                             Lead Assistant Manager       25d ago    3.8\n",
       "5             CogniTensor - Data Scientist (1-2 yrs)        6d ago    3.8\n",
       "6  Data Scientist | Data Engineer | Machine Learning      1mon ago    4.2\n",
       "7       Data Scientist - Machine Learning (5-14 yrs)       10d ago    4.1\n",
       "8                             Manager Data Scientist      1mon ago    4.0\n",
       "9                                     Data Scientist       25d ago    3.7"
      ]
     },
     "execution_count": 40,
     "metadata": {},
     "output_type": "execute_result"
    }
   ],
   "source": [
    "data = pd.DataFrame()\n",
    "data['Company_Name']=company_name\n",
    "data['Job Posted On']=dates_list\n",
    "data['Rating']=rating\n",
    "data"
   ]
  },
  {
   "cell_type": "code",
   "execution_count": null,
   "id": "cb5ba75d",
   "metadata": {},
   "outputs": [],
   "source": []
  }
 ],
 "metadata": {
  "kernelspec": {
   "display_name": "Python 3",
   "language": "python",
   "name": "python3"
  },
  "language_info": {
   "codemirror_mode": {
    "name": "ipython",
    "version": 3
   },
   "file_extension": ".py",
   "mimetype": "text/x-python",
   "name": "python",
   "nbconvert_exporter": "python",
   "pygments_lexer": "ipython3",
   "version": "3.8.8"
  }
 },
 "nbformat": 4,
 "nbformat_minor": 5
}
