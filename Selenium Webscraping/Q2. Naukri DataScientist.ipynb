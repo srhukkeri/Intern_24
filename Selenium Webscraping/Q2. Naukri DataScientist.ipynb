{
 "cells": [
  {
   "cell_type": "code",
   "execution_count": 4,
   "id": "773f1b99",
   "metadata": {},
   "outputs": [],
   "source": [
    "import selenium\n",
    "from selenium import webdriver\n",
    "import pandas as pd\n",
    "import warnings\n",
    "import requests\n",
    "warnings.filterwarnings(\"ignore\")\n",
    "import time\n",
    "\n",
    "driver = webdriver.Chrome(r'C:\\Users\\s.rajendra.hukkeri\\Downloads\\chromedriver_win32\\chromedriver.exe')\n",
    "driver = webdriver.Chrome('chromedriver.exe')\n",
    "url = 'https://www.naukri.com/'\n",
    "driver.get(url)\n",
    "\n",
    "search = driver.find_element_by_class_name('suggestor-input')\n",
    "search.send_keys(\"Data Scientist\")\n",
    "time.sleep(2)\n",
    "loc = driver.find_element_by_xpath('//*[@id=\"root\"]/div[2]/div[3]/div/div/div[3]/div/div/div/input')\n",
    "loc.send_keys('Bangalore')\n",
    "\n",
    "driver.find_element_by_xpath('//div[@class=\"qsbSubmit\"]').click()"
   ]
  },
  {
   "cell_type": "code",
   "execution_count": 5,
   "id": "c340edb2",
   "metadata": {},
   "outputs": [
    {
     "data": {
      "text/plain": [
       "20"
      ]
     },
     "execution_count": 5,
     "metadata": {},
     "output_type": "execute_result"
    }
   ],
   "source": [
    "title = driver.find_elements_by_xpath('//a[@class=\"title fw500 ellipsis\"]')\n",
    "\n",
    "titles=[]\n",
    "for i in title:\n",
    "    titles.append(i.text)\n",
    "titles\n",
    "len(title) \n"
   ]
  },
  {
   "cell_type": "code",
   "execution_count": 6,
   "id": "db3b134a",
   "metadata": {},
   "outputs": [
    {
     "data": {
      "text/plain": [
       "20"
      ]
     },
     "execution_count": 6,
     "metadata": {},
     "output_type": "execute_result"
    }
   ],
   "source": [
    "company= driver.find_elements_by_xpath('//a[@class=\"subTitle ellipsis fleft\"]')\n",
    "\n",
    "list_company=[]\n",
    "for j in company:\n",
    "    list_company.append(j.text)\n",
    "list_company\n",
    "len(company)\n"
   ]
  },
  {
   "cell_type": "code",
   "execution_count": 7,
   "id": "a3f7a540",
   "metadata": {},
   "outputs": [
    {
     "data": {
      "text/plain": [
       "20"
      ]
     },
     "execution_count": 7,
     "metadata": {},
     "output_type": "execute_result"
    }
   ],
   "source": [
    "yrs=[]\n",
    "year = driver.find_elements_by_xpath('//span[contains(@title,\"Yrs\")]')\n",
    "for k in year:\n",
    "    yrs.append(k.text)\n",
    "yrs\n",
    "len(year)\n"
   ]
  },
  {
   "cell_type": "code",
   "execution_count": 8,
   "id": "54063ffb",
   "metadata": {},
   "outputs": [
    {
     "data": {
      "text/plain": [
       "20"
      ]
     },
     "execution_count": 8,
     "metadata": {},
     "output_type": "execute_result"
    }
   ],
   "source": [
    "location=[]\n",
    "loca = driver.find_elements_by_xpath('//li[@class=\"fleft grey-text br2 placeHolderLi location\"]')\n",
    "for l in loca:\n",
    "    location.append(l.text)\n",
    "location\n",
    "len(location)"
   ]
  },
  {
   "cell_type": "code",
   "execution_count": 9,
   "id": "93db03cc",
   "metadata": {},
   "outputs": [
    {
     "data": {
      "text/html": [
       "<div>\n",
       "<style scoped>\n",
       "    .dataframe tbody tr th:only-of-type {\n",
       "        vertical-align: middle;\n",
       "    }\n",
       "\n",
       "    .dataframe tbody tr th {\n",
       "        vertical-align: top;\n",
       "    }\n",
       "\n",
       "    .dataframe thead th {\n",
       "        text-align: right;\n",
       "    }\n",
       "</style>\n",
       "<table border=\"1\" class=\"dataframe\">\n",
       "  <thead>\n",
       "    <tr style=\"text-align: right;\">\n",
       "      <th></th>\n",
       "      <th>Job_Title</th>\n",
       "      <th>Job_Location</th>\n",
       "      <th>Years_Of_Exp</th>\n",
       "      <th>Company</th>\n",
       "    </tr>\n",
       "  </thead>\n",
       "  <tbody>\n",
       "    <tr>\n",
       "      <th>0</th>\n",
       "      <td>Global Tax Automation &amp; Operations - Data Scie...</td>\n",
       "      <td>Bangalore/Bengaluru</td>\n",
       "      <td>3-5 Yrs</td>\n",
       "      <td>Dell</td>\n",
       "    </tr>\n",
       "    <tr>\n",
       "      <th>1</th>\n",
       "      <td>Analyst / Data Scientist</td>\n",
       "      <td>Bangalore/Bengaluru</td>\n",
       "      <td>2-5 Yrs</td>\n",
       "      <td>MilliporeSigma</td>\n",
       "    </tr>\n",
       "    <tr>\n",
       "      <th>2</th>\n",
       "      <td>Data Scientist: Advanced Analytics</td>\n",
       "      <td>Bangalore/Bengaluru</td>\n",
       "      <td>5-10 Yrs</td>\n",
       "      <td>IBM</td>\n",
       "    </tr>\n",
       "    <tr>\n",
       "      <th>3</th>\n",
       "      <td>Data Scientist: Advanced Analytics</td>\n",
       "      <td>Bangalore/Bengaluru</td>\n",
       "      <td>2-5 Yrs</td>\n",
       "      <td>IBM</td>\n",
       "    </tr>\n",
       "    <tr>\n",
       "      <th>4</th>\n",
       "      <td>Senior Data Scientist</td>\n",
       "      <td>Bangalore/Bengaluru</td>\n",
       "      <td>3-8 Yrs</td>\n",
       "      <td>Siemens</td>\n",
       "    </tr>\n",
       "    <tr>\n",
       "      <th>5</th>\n",
       "      <td>Senior Data Scientist</td>\n",
       "      <td>Bangalore/Bengaluru</td>\n",
       "      <td>3-5 Yrs</td>\n",
       "      <td>Sabre</td>\n",
       "    </tr>\n",
       "    <tr>\n",
       "      <th>6</th>\n",
       "      <td>Senior Data Scientist (Fintech)</td>\n",
       "      <td>Bangalore/Bengaluru</td>\n",
       "      <td>4-6 Yrs</td>\n",
       "      <td>NIRA</td>\n",
       "    </tr>\n",
       "    <tr>\n",
       "      <th>7</th>\n",
       "      <td>Senior Data Scientist</td>\n",
       "      <td>Chennai, Bangalore/Bengaluru</td>\n",
       "      <td>6-11 Yrs</td>\n",
       "      <td>Shell</td>\n",
       "    </tr>\n",
       "    <tr>\n",
       "      <th>8</th>\n",
       "      <td>Data Scientist - Lead / Architect - Looking Fo...</td>\n",
       "      <td>Kochi/Cochin, Kolkata, Pune, Gurgaon/Gurugram,...</td>\n",
       "      <td>5-10 Yrs</td>\n",
       "      <td>Wipro</td>\n",
       "    </tr>\n",
       "    <tr>\n",
       "      <th>9</th>\n",
       "      <td>Data Scientist - Lead / Architect - Looking Fo...</td>\n",
       "      <td>Hyderabad/Secunderabad, Pune, Chennai, Bangalo...</td>\n",
       "      <td>5-10 Yrs</td>\n",
       "      <td>Wipro</td>\n",
       "    </tr>\n",
       "  </tbody>\n",
       "</table>\n",
       "</div>"
      ],
      "text/plain": [
       "                                           Job_Title  \\\n",
       "0  Global Tax Automation & Operations - Data Scie...   \n",
       "1                           Analyst / Data Scientist   \n",
       "2                 Data Scientist: Advanced Analytics   \n",
       "3                 Data Scientist: Advanced Analytics   \n",
       "4                              Senior Data Scientist   \n",
       "5                              Senior Data Scientist   \n",
       "6                    Senior Data Scientist (Fintech)   \n",
       "7                              Senior Data Scientist   \n",
       "8  Data Scientist - Lead / Architect - Looking Fo...   \n",
       "9  Data Scientist - Lead / Architect - Looking Fo...   \n",
       "\n",
       "                                        Job_Location Years_Of_Exp  \\\n",
       "0                                Bangalore/Bengaluru      3-5 Yrs   \n",
       "1                                Bangalore/Bengaluru      2-5 Yrs   \n",
       "2                                Bangalore/Bengaluru     5-10 Yrs   \n",
       "3                                Bangalore/Bengaluru      2-5 Yrs   \n",
       "4                                Bangalore/Bengaluru      3-8 Yrs   \n",
       "5                                Bangalore/Bengaluru      3-5 Yrs   \n",
       "6                                Bangalore/Bengaluru      4-6 Yrs   \n",
       "7                       Chennai, Bangalore/Bengaluru     6-11 Yrs   \n",
       "8  Kochi/Cochin, Kolkata, Pune, Gurgaon/Gurugram,...     5-10 Yrs   \n",
       "9  Hyderabad/Secunderabad, Pune, Chennai, Bangalo...     5-10 Yrs   \n",
       "\n",
       "          Company  \n",
       "0            Dell  \n",
       "1  MilliporeSigma  \n",
       "2             IBM  \n",
       "3             IBM  \n",
       "4         Siemens  \n",
       "5           Sabre  \n",
       "6            NIRA  \n",
       "7           Shell  \n",
       "8           Wipro  \n",
       "9           Wipro  "
      ]
     },
     "execution_count": 9,
     "metadata": {},
     "output_type": "execute_result"
    }
   ],
   "source": [
    "data= pd.DataFrame()\n",
    "data['Job_Title']=titles\n",
    "data['Job_Location']=location\n",
    "data['Years_Of_Exp']=yrs\n",
    "data['Company']=list_company\n",
    "data.head(10)"
   ]
  },
  {
   "cell_type": "code",
   "execution_count": null,
   "id": "8af3b814",
   "metadata": {},
   "outputs": [],
   "source": []
  },
  {
   "cell_type": "code",
   "execution_count": null,
   "id": "b110d2ea",
   "metadata": {},
   "outputs": [],
   "source": []
  },
  {
   "cell_type": "code",
   "execution_count": null,
   "id": "3c864cfe",
   "metadata": {},
   "outputs": [],
   "source": []
  }
 ],
 "metadata": {
  "kernelspec": {
   "display_name": "Python 3",
   "language": "python",
   "name": "python3"
  },
  "language_info": {
   "codemirror_mode": {
    "name": "ipython",
    "version": 3
   },
   "file_extension": ".py",
   "mimetype": "text/x-python",
   "name": "python",
   "nbconvert_exporter": "python",
   "pygments_lexer": "ipython3",
   "version": "3.8.8"
  }
 },
 "nbformat": 4,
 "nbformat_minor": 5
}
