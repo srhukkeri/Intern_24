{
 "cells": [
  {
   "cell_type": "code",
   "execution_count": 11,
   "id": "1be3ede1",
   "metadata": {},
   "outputs": [],
   "source": [
    "import selenium\n",
    "from selenium import webdriver\n",
    "import pandas as pd\n",
    "import warnings\n",
    "import requests\n",
    "warnings.filterwarnings(\"ignore\")\n",
    "import time\n",
    "\n",
    "driver = webdriver.Chrome(r'C:\\Users\\s.rajendra.hukkeri\\Downloads\\chromedriver_win32\\chromedriver.exe')\n",
    "driver = webdriver.Chrome('chromedriver.exe')\n",
    "url = 'https://www.naukri.com/'\n",
    "driver.get(url)\n",
    "\n",
    "search = driver.find_element_by_class_name('suggestor-input')\n",
    "search.send_keys(\"Data Scientist\")\n",
    "time.sleep(2)\n",
    "\n",
    "driver.find_element_by_xpath('//div[@class=\"qsbSubmit\"]').click()\n",
    "\n"
   ]
  },
  {
   "cell_type": "code",
   "execution_count": 12,
   "id": "ca2760b9",
   "metadata": {},
   "outputs": [],
   "source": [
    "a=driver.find_element_by_xpath(\"/html/body/div[1]/div[3]/div[2]/section[1]/div[2]/div[3]/div[2]/div[3]/label/i\")\n",
    "a.click()\n",
    "time.sleep(1)"
   ]
  },
  {
   "cell_type": "code",
   "execution_count": 13,
   "id": "8a7237c4",
   "metadata": {},
   "outputs": [],
   "source": [
    "\n",
    "b=driver.find_element_by_xpath(\"/html/body/div[1]/div[3]/div[2]/section[1]/div[2]/div[4]/div[2]/div[2]/label/i\")\n",
    "b.click()\n"
   ]
  },
  {
   "cell_type": "code",
   "execution_count": 14,
   "id": "f33c1370",
   "metadata": {},
   "outputs": [
    {
     "data": {
      "text/plain": [
       "20"
      ]
     },
     "execution_count": 14,
     "metadata": {},
     "output_type": "execute_result"
    }
   ],
   "source": [
    "title = driver.find_elements_by_xpath('//a[@class=\"title fw500 ellipsis\"]')\n",
    "\n",
    "titles=[]\n",
    "for i in title:\n",
    "    titles.append(i.text)\n",
    "titles\n",
    "len(title) \n"
   ]
  },
  {
   "cell_type": "code",
   "execution_count": 15,
   "id": "043b31cf",
   "metadata": {},
   "outputs": [
    {
     "data": {
      "text/plain": [
       "20"
      ]
     },
     "execution_count": 15,
     "metadata": {},
     "output_type": "execute_result"
    }
   ],
   "source": [
    "company= driver.find_elements_by_xpath('//a[@class=\"subTitle ellipsis fleft\"]')\n",
    "\n",
    "list_company=[]\n",
    "for j in company:\n",
    "    list_company.append(j.text)\n",
    "list_company\n",
    "len(company)\n"
   ]
  },
  {
   "cell_type": "code",
   "execution_count": 16,
   "id": "033d4e69",
   "metadata": {},
   "outputs": [
    {
     "data": {
      "text/plain": [
       "20"
      ]
     },
     "execution_count": 16,
     "metadata": {},
     "output_type": "execute_result"
    }
   ],
   "source": [
    "yrs=[]\n",
    "year = driver.find_elements_by_xpath('//span[contains(@title,\"Yrs\")]')\n",
    "for k in year:\n",
    "    yrs.append(k.text)\n",
    "yrs\n",
    "len(year)"
   ]
  },
  {
   "cell_type": "code",
   "execution_count": 17,
   "id": "dc749c26",
   "metadata": {},
   "outputs": [
    {
     "data": {
      "text/plain": [
       "20"
      ]
     },
     "execution_count": 17,
     "metadata": {},
     "output_type": "execute_result"
    }
   ],
   "source": [
    "location=[]\n",
    "loca = driver.find_elements_by_xpath('//li[@class=\"fleft grey-text br2 placeHolderLi location\"]')\n",
    "for l in loca:\n",
    "    location.append(l.text)\n",
    "location\n",
    "len(location)"
   ]
  },
  {
   "cell_type": "code",
   "execution_count": 18,
   "id": "28bea3cf",
   "metadata": {},
   "outputs": [
    {
     "data": {
      "text/html": [
       "<div>\n",
       "<style scoped>\n",
       "    .dataframe tbody tr th:only-of-type {\n",
       "        vertical-align: middle;\n",
       "    }\n",
       "\n",
       "    .dataframe tbody tr th {\n",
       "        vertical-align: top;\n",
       "    }\n",
       "\n",
       "    .dataframe thead th {\n",
       "        text-align: right;\n",
       "    }\n",
       "</style>\n",
       "<table border=\"1\" class=\"dataframe\">\n",
       "  <thead>\n",
       "    <tr style=\"text-align: right;\">\n",
       "      <th></th>\n",
       "      <th>Job_Title</th>\n",
       "      <th>Job_Location</th>\n",
       "      <th>Years_Of_Exp</th>\n",
       "      <th>Company</th>\n",
       "    </tr>\n",
       "  </thead>\n",
       "  <tbody>\n",
       "    <tr>\n",
       "      <th>0</th>\n",
       "      <td>Data Scientist</td>\n",
       "      <td>Hyderabad/Secunderabad, Bangalore/Bengaluru, D...</td>\n",
       "      <td>2-5 Yrs</td>\n",
       "      <td>NAVIKENZ INDIA PRIVATE LIMITED</td>\n",
       "    </tr>\n",
       "    <tr>\n",
       "      <th>1</th>\n",
       "      <td>Data Scientist-Onsite and offshore</td>\n",
       "      <td>Hyderabad/Secunderabad, Pune, Chennai, Bangalo...</td>\n",
       "      <td>3-8 Yrs</td>\n",
       "      <td>PROKXIMITY</td>\n",
       "    </tr>\n",
       "    <tr>\n",
       "      <th>2</th>\n",
       "      <td>Data Scientist</td>\n",
       "      <td>Kolkata, Hyderabad/Secunderabad, Pune, Chennai...</td>\n",
       "      <td>1-6 Yrs</td>\n",
       "      <td>Alp Consulting Limited</td>\n",
       "    </tr>\n",
       "    <tr>\n",
       "      <th>3</th>\n",
       "      <td>Data Scientist | A Fintech Organisation</td>\n",
       "      <td>Gurgaon/Gurugram</td>\n",
       "      <td>2-7 Yrs</td>\n",
       "      <td>Vision Beyond Resources India Private Limited</td>\n",
       "    </tr>\n",
       "    <tr>\n",
       "      <th>4</th>\n",
       "      <td>Data &amp; Applied Scientist</td>\n",
       "      <td>Noida, Hyderabad/Secunderabad, Bangalore/Benga...</td>\n",
       "      <td>3-7 Yrs</td>\n",
       "      <td>Microsoft</td>\n",
       "    </tr>\n",
       "    <tr>\n",
       "      <th>5</th>\n",
       "      <td>Data and applied Scientist</td>\n",
       "      <td>Noida, Hyderabad/Secunderabad, Bangalore/Benga...</td>\n",
       "      <td>3-7 Yrs</td>\n",
       "      <td>Microsoft</td>\n",
       "    </tr>\n",
       "    <tr>\n",
       "      <th>6</th>\n",
       "      <td>Data Scientist (freelance)</td>\n",
       "      <td>New Delhi, Delhi</td>\n",
       "      <td>2-7 Yrs</td>\n",
       "      <td>2Coms</td>\n",
       "    </tr>\n",
       "    <tr>\n",
       "      <th>7</th>\n",
       "      <td>Data Scientist</td>\n",
       "      <td>New Delhi</td>\n",
       "      <td>3-8 Yrs</td>\n",
       "      <td>CHANGE LEADERS CONSULTING</td>\n",
       "    </tr>\n",
       "    <tr>\n",
       "      <th>8</th>\n",
       "      <td>Data Scientist</td>\n",
       "      <td>Gurgaon/Gurugram, Chennai\\n(WFH during Covid)</td>\n",
       "      <td>1-6 Yrs</td>\n",
       "      <td>DECISION POINT PRIVATE LIMITED</td>\n",
       "    </tr>\n",
       "    <tr>\n",
       "      <th>9</th>\n",
       "      <td>Data Scientist</td>\n",
       "      <td>Gurgaon, Bengaluru</td>\n",
       "      <td>3-7 Yrs</td>\n",
       "      <td>BlackBuck</td>\n",
       "    </tr>\n",
       "  </tbody>\n",
       "</table>\n",
       "</div>"
      ],
      "text/plain": [
       "                                 Job_Title  \\\n",
       "0                           Data Scientist   \n",
       "1       Data Scientist-Onsite and offshore   \n",
       "2                           Data Scientist   \n",
       "3  Data Scientist | A Fintech Organisation   \n",
       "4                 Data & Applied Scientist   \n",
       "5               Data and applied Scientist   \n",
       "6               Data Scientist (freelance)   \n",
       "7                           Data Scientist   \n",
       "8                           Data Scientist   \n",
       "9                           Data Scientist   \n",
       "\n",
       "                                        Job_Location Years_Of_Exp  \\\n",
       "0  Hyderabad/Secunderabad, Bangalore/Bengaluru, D...      2-5 Yrs   \n",
       "1  Hyderabad/Secunderabad, Pune, Chennai, Bangalo...      3-8 Yrs   \n",
       "2  Kolkata, Hyderabad/Secunderabad, Pune, Chennai...      1-6 Yrs   \n",
       "3                                   Gurgaon/Gurugram      2-7 Yrs   \n",
       "4  Noida, Hyderabad/Secunderabad, Bangalore/Benga...      3-7 Yrs   \n",
       "5  Noida, Hyderabad/Secunderabad, Bangalore/Benga...      3-7 Yrs   \n",
       "6                                   New Delhi, Delhi      2-7 Yrs   \n",
       "7                                          New Delhi      3-8 Yrs   \n",
       "8      Gurgaon/Gurugram, Chennai\\n(WFH during Covid)      1-6 Yrs   \n",
       "9                                 Gurgaon, Bengaluru      3-7 Yrs   \n",
       "\n",
       "                                         Company  \n",
       "0                 NAVIKENZ INDIA PRIVATE LIMITED  \n",
       "1                                     PROKXIMITY  \n",
       "2                         Alp Consulting Limited  \n",
       "3  Vision Beyond Resources India Private Limited  \n",
       "4                                      Microsoft  \n",
       "5                                      Microsoft  \n",
       "6                                          2Coms  \n",
       "7                      CHANGE LEADERS CONSULTING  \n",
       "8                 DECISION POINT PRIVATE LIMITED  \n",
       "9                                      BlackBuck  "
      ]
     },
     "execution_count": 18,
     "metadata": {},
     "output_type": "execute_result"
    }
   ],
   "source": [
    "data= pd.DataFrame()\n",
    "data['Job_Title']=titles\n",
    "data['Job_Location']=location\n",
    "data['Years_Of_Exp']=yrs\n",
    "data['Company']=list_company\n",
    "data.head(10)"
   ]
  },
  {
   "cell_type": "code",
   "execution_count": null,
   "id": "f3131de3",
   "metadata": {},
   "outputs": [],
   "source": []
  },
  {
   "cell_type": "code",
   "execution_count": null,
   "id": "5bcd0fc2",
   "metadata": {},
   "outputs": [],
   "source": []
  },
  {
   "cell_type": "code",
   "execution_count": null,
   "id": "b3912370",
   "metadata": {},
   "outputs": [],
   "source": []
  }
 ],
 "metadata": {
  "kernelspec": {
   "display_name": "Python 3",
   "language": "python",
   "name": "python3"
  },
  "language_info": {
   "codemirror_mode": {
    "name": "ipython",
    "version": 3
   },
   "file_extension": ".py",
   "mimetype": "text/x-python",
   "name": "python",
   "nbconvert_exporter": "python",
   "pygments_lexer": "ipython3",
   "version": "3.8.8"
  }
 },
 "nbformat": 4,
 "nbformat_minor": 5
}
