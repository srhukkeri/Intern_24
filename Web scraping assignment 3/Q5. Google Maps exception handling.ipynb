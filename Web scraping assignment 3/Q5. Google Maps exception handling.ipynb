{
 "cells": [
  {
   "cell_type": "code",
   "execution_count": 1,
   "id": "43514c52",
   "metadata": {},
   "outputs": [],
   "source": [
    "import selenium \n",
    "from selenium import webdriver\n",
    "from bs4 import BeautifulSoup\n",
    "import pandas as pd\n",
    "import warnings\n",
    "warnings.filterwarnings(\"ignore\")\n",
    "import time\n",
    "import requests\n",
    "from selenium.common.exceptions import StaleElementReferenceException,NoSuchElementException\n",
    "import re\n",
    "from selenium.webdriver.support.ui import WebDriverWait\n",
    "from selenium.webdriver.common.by import By\n",
    "from selenium.webdriver.support import expected_conditions as EC\n",
    "from selenium.webdriver.common.action_chains import ActionChains"
   ]
  },
  {
   "cell_type": "code",
   "execution_count": 2,
   "id": "d364500e",
   "metadata": {},
   "outputs": [
    {
     "name": "stdout",
     "output_type": "stream",
     "text": [
      "Enter user's input: hubli\n"
     ]
    }
   ],
   "source": [
    "driver = webdriver.Chrome(r'C:\\dt\\chromedriver_win32\\chromedriver.exe')\n",
    "driver.get(\"https://www.google.com/maps\")\n",
    "\n",
    "search = driver.find_element_by_xpath('//input[@class=\"tactile-searchbox-input\"]')   #search\n",
    "a=input(\"Enter user's input: \")  \n",
    "search.send_keys(a)\n",
    "\n",
    "search1 =driver.find_element_by_xpath('//button[@id=\"searchbox-searchbutton\"]').click()        #search for the input value\n",
    "time.sleep(2)"
   ]
  },
  {
   "cell_type": "code",
   "execution_count": 3,
   "id": "ef281be9",
   "metadata": {},
   "outputs": [
    {
     "name": "stdout",
     "output_type": "stream",
     "text": [
      "Enter user's input: hubli\n",
      "15.35758, 75.03911\n"
     ]
    }
   ],
   "source": [
    "wait = WebDriverWait(driver, 10)\n",
    "driver.get(\"https://www.google.com/maps\")\n",
    "search = wait.until(EC.element_to_be_clickable((By.ID, \"searchboxinput\")))\n",
    "a=input(\"Enter user's input: \")  \n",
    "search.send_keys(a)\n",
    "wait.until(EC.element_to_be_clickable((By.ID, \"searchbox-searchbutton\"))).click()\n",
    "time.sleep(5)\n",
    "ActionChains(driver).move_to_element(driver.find_element_by_xpath(\"//html/body\")).context_click().perform()\n",
    "print(wait.until(EC.visibility_of_element_located((By.CSS_SELECTOR, \"ul[role='menu']>li div div[class*='text']:nth-of-type(1)\"))).text)"
   ]
  },
  {
   "cell_type": "code",
   "execution_count": null,
   "id": "ab12a4da",
   "metadata": {},
   "outputs": [],
   "source": []
  },
  {
   "cell_type": "code",
   "execution_count": null,
   "id": "75bdc0f9",
   "metadata": {},
   "outputs": [],
   "source": []
  },
  {
   "cell_type": "code",
   "execution_count": null,
   "id": "9ee3d267",
   "metadata": {},
   "outputs": [],
   "source": []
  }
 ],
 "metadata": {
  "kernelspec": {
   "display_name": "Python 3",
   "language": "python",
   "name": "python3"
  },
  "language_info": {
   "codemirror_mode": {
    "name": "ipython",
    "version": 3
   },
   "file_extension": ".py",
   "mimetype": "text/x-python",
   "name": "python",
   "nbconvert_exporter": "python",
   "pygments_lexer": "ipython3",
   "version": "3.8.8"
  }
 },
 "nbformat": 4,
 "nbformat_minor": 5
}
