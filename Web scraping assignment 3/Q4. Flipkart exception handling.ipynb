{
 "cells": [
  {
   "cell_type": "code",
   "execution_count": 1,
   "id": "35f3e09a",
   "metadata": {},
   "outputs": [],
   "source": [
    "import selenium \n",
    "from selenium import webdriver\n",
    "from bs4 import BeautifulSoup\n",
    "import pandas as pd\n",
    "import warnings\n",
    "warnings.filterwarnings(\"ignore\")\n",
    "import time\n",
    "import requests\n",
    "from selenium.common.exceptions import StaleElementReferenceException,NoSuchElementException\n",
    "import re\n"
   ]
  },
  {
   "cell_type": "code",
   "execution_count": 2,
   "id": "8dd1a5b1",
   "metadata": {},
   "outputs": [],
   "source": [
    "driver = webdriver.Chrome(r'C:\\Users\\hp\\Downloads\\chromedriver_win32 (1)\\chromedriver.exe')\n",
    "driver.get(\"https://www.flipkart.com/\")\n",
    "close_popup_button=driver.find_element_by_xpath('//button[@class=\"_2KpZ6l _2doB4z\"]').click()\n",
    "\n",
    "search = driver.find_element_by_xpath('//input[@class=\"_3704LK\"]')\n",
    "\n",
    "#a=input(\"Enter smartphone product :\" )\n",
    "search.send_keys('Samsung')\n",
    "driver.find_element_by_xpath('//button[@class=\"L0Z3Pu\"]').click() "
   ]
  },
  {
   "cell_type": "code",
   "execution_count": 3,
   "id": "1d608816",
   "metadata": {},
   "outputs": [
    {
     "data": {
      "text/plain": [
       "['https://www.flipkart.com/samsung-galaxy-f12-sky-blue-64-gb/p/itm0319ce24f74aa?pid=MOBGFG79BVGDHGWV&lid=LSTMOBGFG79BVGDHGWVGF2CRI&marketplace=FLIPKART&q=Samsung&store=tyy%2F4io&srno=s_1_1&otracker=search&otracker1=search&fm=Search&iid=0dfb1074-2ec6-4a9b-983a-1a882ee002f0.MOBGFG79BVGDHGWV.SEARCH&ppt=hp&ppn=homepage&ssid=dx9a5d2i0w0000001646988869532&qH=3910b1e0ccab19bc',\n",
       " 'https://www.flipkart.com/samsung-galaxy-f12-celestial-black-64-gb/p/itmaae10b8db3909?pid=MOBGFG79FUDPXZXQ&lid=LSTMOBGFG79FUDPXZXQH5PM6N&marketplace=FLIPKART&q=Samsung&store=tyy%2F4io&srno=s_1_2&otracker=search&otracker1=search&fm=Search&iid=0dfb1074-2ec6-4a9b-983a-1a882ee002f0.MOBGFG79FUDPXZXQ.SEARCH&ppt=hp&ppn=homepage&ssid=dx9a5d2i0w0000001646988869532&qH=3910b1e0ccab19bc',\n",
       " 'https://www.flipkart.com/samsung-galaxy-f12-sea-green-64-gb/p/itm4d3582cd695fd?pid=MOBGFG794YPQ9RAE&lid=LSTMOBGFG794YPQ9RAEGUPPTW&marketplace=FLIPKART&q=Samsung&store=tyy%2F4io&srno=s_1_3&otracker=search&otracker1=search&fm=Search&iid=0dfb1074-2ec6-4a9b-983a-1a882ee002f0.MOBGFG794YPQ9RAE.SEARCH&ppt=hp&ppn=homepage&ssid=dx9a5d2i0w0000001646988869532&qH=3910b1e0ccab19bc',\n",
       " 'https://www.flipkart.com/samsung-galaxy-m12-black-64-gb/p/itm425898eedc4ce?pid=MOBGFG8H4A32HTKJ&lid=LSTMOBGFG8H4A32HTKJ2GEOCH&marketplace=FLIPKART&q=Samsung&store=tyy%2F4io&srno=s_1_4&otracker=search&otracker1=search&fm=Search&iid=0dfb1074-2ec6-4a9b-983a-1a882ee002f0.MOBGFG8H4A32HTKJ.SEARCH&ppt=hp&ppn=homepage&ssid=dx9a5d2i0w0000001646988869532&qH=3910b1e0ccab19bc',\n",
       " 'https://www.flipkart.com/samsung-galaxy-m12-blue-64-gb/p/itm062b6548d8904?pid=MOBGFG8GCPEGKGF4&lid=LSTMOBGFG8GCPEGKGF4KNU0FO&marketplace=FLIPKART&q=Samsung&store=tyy%2F4io&srno=s_1_5&otracker=search&otracker1=search&fm=Search&iid=0dfb1074-2ec6-4a9b-983a-1a882ee002f0.MOBGFG8GCPEGKGF4.SEARCH&ppt=hp&ppn=homepage&ssid=dx9a5d2i0w0000001646988869532&qH=3910b1e0ccab19bc',\n",
       " 'https://www.flipkart.com/samsung-galaxy-f22-denim-blue-64-gb/p/itmce0a6baf0d54d?pid=MOBG43UGBTGGB99V&lid=LSTMOBG43UGBTGGB99VLZACSD&marketplace=FLIPKART&q=Samsung&store=tyy%2F4io&srno=s_1_6&otracker=search&otracker1=search&fm=Search&iid=0dfb1074-2ec6-4a9b-983a-1a882ee002f0.MOBG43UGBTGGB99V.SEARCH&ppt=hp&ppn=homepage&ssid=dx9a5d2i0w0000001646988869532&qH=3910b1e0ccab19bc',\n",
       " 'https://www.flipkart.com/samsung-galaxy-f22-denim-blue-128-gb/p/itm30c755943bea0?pid=MOBG43UGRSMJXTMH&lid=LSTMOBG43UGRSMJXTMH3SYSZ3&marketplace=FLIPKART&q=Samsung&store=tyy%2F4io&srno=s_1_7&otracker=search&otracker1=search&fm=Search&iid=0dfb1074-2ec6-4a9b-983a-1a882ee002f0.MOBG43UGRSMJXTMH.SEARCH&ppt=hp&ppn=homepage&ssid=dx9a5d2i0w0000001646988869532&qH=3910b1e0ccab19bc',\n",
       " 'https://www.flipkart.com/samsung-galaxy-f12-sky-blue-128-gb/p/itmbe3d99dae33a0?pid=MOBGFG79BPTJWHKS&lid=LSTMOBGFG79BPTJWHKSO3JF0R&marketplace=FLIPKART&q=Samsung&store=tyy%2F4io&srno=s_1_8&otracker=search&otracker1=search&fm=Search&iid=0dfb1074-2ec6-4a9b-983a-1a882ee002f0.MOBGFG79BPTJWHKS.SEARCH&ppt=hp&ppn=homepage&ssid=dx9a5d2i0w0000001646988869532&qH=3910b1e0ccab19bc',\n",
       " 'https://www.flipkart.com/samsung-galaxy-f22-denim-black-128-gb/p/itm9f921a1b4f96c?pid=MOBG43UGFGYU4K4B&lid=LSTMOBG43UGFGYU4K4BEILLGH&marketplace=FLIPKART&q=Samsung&store=tyy%2F4io&srno=s_1_9&otracker=search&otracker1=search&fm=Search&iid=0dfb1074-2ec6-4a9b-983a-1a882ee002f0.MOBG43UGFGYU4K4B.SEARCH&ppt=hp&ppn=homepage&ssid=dx9a5d2i0w0000001646988869532&qH=3910b1e0ccab19bc',\n",
       " 'https://www.flipkart.com/samsung-galaxy-m12-blue-128-gb/p/itmcded83829eef4?pid=MOBGFZUHYABADANE&lid=LSTMOBGFZUHYABADANEYHHFF4&marketplace=FLIPKART&q=Samsung&store=tyy%2F4io&srno=s_1_10&otracker=search&otracker1=search&fm=Search&iid=0dfb1074-2ec6-4a9b-983a-1a882ee002f0.MOBGFZUHYABADANE.SEARCH&ppt=hp&ppn=homepage&ssid=dx9a5d2i0w0000001646988869532&qH=3910b1e0ccab19bc',\n",
       " 'https://www.flipkart.com/samsung-galaxy-f22-denim-black-64-gb/p/itm6f47a19cb79ae?pid=MOBG43UGC3PYCBZF&lid=LSTMOBG43UGC3PYCBZFPZLL2Q&marketplace=FLIPKART&q=Samsung&store=tyy%2F4io&srno=s_1_11&otracker=search&otracker1=search&fm=Search&iid=0dfb1074-2ec6-4a9b-983a-1a882ee002f0.MOBG43UGC3PYCBZF.SEARCH&ppt=hp&ppn=homepage&ssid=dx9a5d2i0w0000001646988869532&qH=3910b1e0ccab19bc',\n",
       " 'https://www.flipkart.com/samsung-guru-music-2/p/itm2c9ea56f8959f?pid=MOBGAFCZ7FDHRZRE&lid=LSTMOBGAFCZ7FDHRZREGYGMIH&marketplace=FLIPKART&q=Samsung&store=tyy%2F4io&srno=s_1_12&otracker=search&otracker1=search&fm=Search&iid=0dfb1074-2ec6-4a9b-983a-1a882ee002f0.MOBGAFCZ7FDHRZRE.SEARCH&ppt=hp&ppn=homepage&ssid=dx9a5d2i0w0000001646988869532&qH=3910b1e0ccab19bc',\n",
       " 'https://www.flipkart.com/samsung-galaxy-m12-white-64-gb/p/itmfc7abd82822b2?pid=MOBGFG8GWBRPHMKT&lid=LSTMOBGFG8GWBRPHMKTREU0ZC&marketplace=FLIPKART&q=Samsung&store=tyy%2F4io&srno=s_1_13&otracker=search&otracker1=search&fm=Search&iid=0dfb1074-2ec6-4a9b-983a-1a882ee002f0.MOBGFG8GWBRPHMKT.SEARCH&ppt=hp&ppn=homepage&ssid=dx9a5d2i0w0000001646988869532&qH=3910b1e0ccab19bc',\n",
       " 'https://www.flipkart.com/samsung-m32-5g-sky-blue-128-gb/p/itmb329607a0157b?pid=MOBG6JQKDKEDPJHH&lid=LSTMOBG6JQKDKEDPJHH3T0CUB&marketplace=FLIPKART&q=Samsung&store=tyy%2F4io&srno=s_1_14&otracker=search&otracker1=search&fm=Search&iid=0dfb1074-2ec6-4a9b-983a-1a882ee002f0.MOBG6JQKDKEDPJHH.SEARCH&ppt=hp&ppn=homepage&ssid=dx9a5d2i0w0000001646988869532&qH=3910b1e0ccab19bc',\n",
       " 'https://www.flipkart.com/samsung-guru-music-2-sm-b315e/p/itmf050063b51944?pid=MOBE9VZBPVEGZC6X&lid=LSTMOBE9VZBPVEGZC6XPUE4B9&marketplace=FLIPKART&q=Samsung&store=tyy%2F4io&srno=s_1_15&otracker=search&otracker1=search&fm=Search&iid=0dfb1074-2ec6-4a9b-983a-1a882ee002f0.MOBE9VZBPVEGZC6X.SEARCH&ppt=hp&ppn=homepage&ssid=dx9a5d2i0w0000001646988869532&qH=3910b1e0ccab19bc',\n",
       " 'https://www.flipkart.com/samsung-galaxy-m52-5g-icy-blue-128-gb/p/itmc11e28acf5474?pid=MOBG7H8ZMGBH4Q8F&lid=LSTMOBG7H8ZMGBH4Q8FHX1H1R&marketplace=FLIPKART&q=Samsung&store=tyy%2F4io&srno=s_1_16&otracker=search&otracker1=search&fm=Search&iid=0dfb1074-2ec6-4a9b-983a-1a882ee002f0.MOBG7H8ZMGBH4Q8F.SEARCH&ppt=hp&ppn=homepage&ssid=dx9a5d2i0w0000001646988869532&qH=3910b1e0ccab19bc',\n",
       " 'https://www.flipkart.com/samsung-m32-5g-slate-black-128-gb/p/itm3a22184dd35ed?pid=MOBG6JM6RTU6RH6Q&lid=LSTMOBG6JM6RTU6RH6QW35Q3M&marketplace=FLIPKART&q=Samsung&store=tyy%2F4io&srno=s_1_17&otracker=search&otracker1=search&fm=Search&iid=0dfb1074-2ec6-4a9b-983a-1a882ee002f0.MOBG6JM6RTU6RH6Q.SEARCH&ppt=hp&ppn=homepage&ssid=dx9a5d2i0w0000001646988869532&qH=3910b1e0ccab19bc',\n",
       " 'https://www.flipkart.com/samsung-m21-2021-arctic-blue-64-gb/p/itm61647bcca8527?pid=MOBG5J8GXG8RWEY2&lid=LSTMOBG5J8GXG8RWEY2EPKTVI&marketplace=FLIPKART&q=Samsung&store=tyy%2F4io&srno=s_1_18&otracker=search&otracker1=search&fm=Search&iid=0dfb1074-2ec6-4a9b-983a-1a882ee002f0.MOBG5J8GXG8RWEY2.SEARCH&ppt=hp&ppn=homepage&ssid=dx9a5d2i0w0000001646988869532&qH=3910b1e0ccab19bc',\n",
       " 'https://www.flipkart.com/samsung-m21-2021-charcoal-black-64-gb/p/itm43aae912ab8a1?pid=MOBG5J4AFQETQBGA&lid=LSTMOBG5J4AFQETQBGAIVVJUW&marketplace=FLIPKART&q=Samsung&store=tyy%2F4io&srno=s_1_19&otracker=search&otracker1=search&fm=Search&iid=0dfb1074-2ec6-4a9b-983a-1a882ee002f0.MOBG5J4AFQETQBGA.SEARCH&ppt=hp&ppn=homepage&ssid=dx9a5d2i0w0000001646988869532&qH=3910b1e0ccab19bc',\n",
       " 'https://www.flipkart.com/samsung-galaxy-m32-5g-sky-blue-128-gb/p/itmd9a8bb8647f12?pid=MOBG73CKDGXWGS43&lid=LSTMOBG73CKDGXWGS43S8VJVF&marketplace=FLIPKART&q=Samsung&store=tyy%2F4io&srno=s_1_20&otracker=search&otracker1=search&fm=Search&iid=0dfb1074-2ec6-4a9b-983a-1a882ee002f0.MOBG73CKDGXWGS43.SEARCH&ppt=hp&ppn=homepage&ssid=dx9a5d2i0w0000001646988869532&qH=3910b1e0ccab19bc',\n",
       " 'https://www.flipkart.com/samsung-guru-music-2/p/itmaa4588e081989?pid=MOBGA6GQDBHUERUZ&lid=LSTMOBGA6GQDBHUERUZIOFKEG&marketplace=FLIPKART&q=Samsung&store=tyy%2F4io&srno=s_1_21&otracker=search&otracker1=search&fm=Search&iid=0dfb1074-2ec6-4a9b-983a-1a882ee002f0.MOBGA6GQDBHUERUZ.SEARCH&ppt=hp&ppn=homepage&ssid=dx9a5d2i0w0000001646988869532&qH=3910b1e0ccab19bc',\n",
       " 'https://www.flipkart.com/samsung-galaxy-m12-black-128-gb/p/itmf91894ed28c1c?pid=MOBGFZUNGH22RJZT&lid=LSTMOBGFZUNGH22RJZTRDPX4R&marketplace=FLIPKART&q=Samsung&store=tyy%2F4io&srno=s_1_22&otracker=search&otracker1=search&fm=Search&iid=0dfb1074-2ec6-4a9b-983a-1a882ee002f0.MOBGFZUNGH22RJZT.SEARCH&ppt=hp&ppn=homepage&ssid=dx9a5d2i0w0000001646988869532&qH=3910b1e0ccab19bc',\n",
       " 'https://www.flipkart.com/samsung-guru-gt/p/itm15efc9f269431?pid=MOBG9ZWKBF3KCBQG&lid=LSTMOBG9ZWKBF3KCBQG7TXRBU&marketplace=FLIPKART&q=Samsung&store=tyy%2F4io&srno=s_1_23&otracker=search&otracker1=search&fm=Search&iid=0dfb1074-2ec6-4a9b-983a-1a882ee002f0.MOBG9ZWKBF3KCBQG.SEARCH&ppt=hp&ppn=homepage&ssid=dx9a5d2i0w0000001646988869532&qH=3910b1e0ccab19bc',\n",
       " 'https://www.flipkart.com/samsung-galaxy-a12-white-64-gb/p/itm3bb6b8405a1b2?pid=MOBGYCCGPEPHFHWM&lid=LSTMOBGYCCGPEPHFHWMSSG5DX&marketplace=FLIPKART&q=Samsung&store=tyy%2F4io&srno=s_1_24&otracker=search&otracker1=search&fm=Search&iid=0dfb1074-2ec6-4a9b-983a-1a882ee002f0.MOBGYCCGPEPHFHWM.SEARCH&ppt=hp&ppn=homepage&ssid=dx9a5d2i0w0000001646988869532&qH=3910b1e0ccab19bc']"
      ]
     },
     "execution_count": 3,
     "metadata": {},
     "output_type": "execute_result"
    }
   ],
   "source": [
    "url =[]\n",
    "\n",
    "phone_url = driver.find_elements_by_xpath('//a[@class=\"_1fQZEK\"]')\n",
    "for i in phone_url:\n",
    "    url.append(i.get_attribute('href'))\n",
    "\n",
    "url"
   ]
  },
  {
   "cell_type": "code",
   "execution_count": 4,
   "id": "95ba5573",
   "metadata": {},
   "outputs": [
    {
     "data": {
      "text/plain": [
       "24"
      ]
     },
     "execution_count": 4,
     "metadata": {},
     "output_type": "execute_result"
    }
   ],
   "source": [
    "n=len(url)\n",
    "n"
   ]
  },
  {
   "cell_type": "code",
   "execution_count": 27,
   "id": "0b1ebb5b",
   "metadata": {},
   "outputs": [],
   "source": [
    "brand =[]\n",
    "smartphone_name=[]\n",
    "colour=[]\n",
    "prices=[]\n",
    "prod_urls=[]\n",
    "des=[]\n",
    "\n",
    "for i in url[0:5]:\n",
    "    driver.get(i)\n",
    "    time.sleep(1)\n",
    "    try:\n",
    "        brand_name = driver.find_element_by_xpath('//*[@id=\"container\"]/div/div[3]/div[1]/div[2]/div[3]/div/div[1]/h1/span')\n",
    "        brand.append(brand_name.text) \n",
    "    except NoSuchElementException:\n",
    "        brand.append(\"NA\")\n",
    "    try:\n",
    "        smartphone_names = driver.find_element_by_xpath('//*[@id=\"container\"]/div/div[3]/div[1]/div[2]/div[10]/div[5]/div/div[2]/div/div[1]/table/tbody/tr[3]/td[2]')\n",
    "        smartphone_name.append(smartphone_names.text)    \n",
    "    except NoSuchElementException:\n",
    "        smartphone_name.append(\"NA\")\n",
    "    try:\n",
    "        colors = driver.find_element_by_xpath('//*[@id=\"container\"]/div/div[3]/div[1]/div[2]/div[10]/div[5]/div/div[2]/div/div[1]/table/tbody/tr[4]/td[2]')\n",
    "        colour.append(colors.text)\n",
    "    except NoSuchElementException:\n",
    "        colour.append(\"NA\")\n",
    "    try:\n",
    "        price = driver.find_element_by_xpath('//*[@id=\"container\"]/div/div[3]/div[1]/div[2]/div[3]/div/div[4]/div[1]/div/div[1]')\n",
    "        prices.append(price.text)\n",
    "    except NoSuchElementException:\n",
    "        prices.append(\"NA\")\n",
    "    try:\n",
    "        desc = driver.find_element_by_xpath('//*[@id=\"container\"]/div/div[3]/div[1]/div[2]/div[8]/div[1]/div')\n",
    "        des.append(desc.text)\n",
    "    except NoSuchElementException:\n",
    "        des.append(\"NA\")\n",
    "    try:\n",
    "        prod_urls.append(url)\n",
    "    except NoSuchElementException:\n",
    "        prod_urls.append(\"NA\")\n",
    "   \n",
    "        "
   ]
  },
  {
   "cell_type": "code",
   "execution_count": 28,
   "id": "7a692c9e",
   "metadata": {},
   "outputs": [
    {
     "data": {
      "text/html": [
       "<div>\n",
       "<style scoped>\n",
       "    .dataframe tbody tr th:only-of-type {\n",
       "        vertical-align: middle;\n",
       "    }\n",
       "\n",
       "    .dataframe tbody tr th {\n",
       "        vertical-align: top;\n",
       "    }\n",
       "\n",
       "    .dataframe thead th {\n",
       "        text-align: right;\n",
       "    }\n",
       "</style>\n",
       "<table border=\"1\" class=\"dataframe\">\n",
       "  <thead>\n",
       "    <tr style=\"text-align: right;\">\n",
       "      <th></th>\n",
       "      <th>Brand-Name</th>\n",
       "      <th>Smartphone Name</th>\n",
       "      <th>Price</th>\n",
       "      <th>Mobile-Color</th>\n",
       "      <th>Mobile-Highlights</th>\n",
       "      <th>Product Url</th>\n",
       "    </tr>\n",
       "  </thead>\n",
       "  <tbody>\n",
       "    <tr>\n",
       "      <th>0</th>\n",
       "      <td>SAMSUNG Galaxy F12 (Sky Blue, 64 GB)  (4 GB RAM)</td>\n",
       "      <td>Galaxy F12</td>\n",
       "      <td>₹11,499</td>\n",
       "      <td>Sky Blue</td>\n",
       "      <td>Delivery\\nCheck\\nEnter pincode\\nUsually delive...</td>\n",
       "      <td>[https://www.flipkart.com/samsung-galaxy-f12-s...</td>\n",
       "    </tr>\n",
       "    <tr>\n",
       "      <th>1</th>\n",
       "      <td>SAMSUNG Galaxy F12 (Celestial Black, 64 GB)  (...</td>\n",
       "      <td>Galaxy F12</td>\n",
       "      <td>₹11,499</td>\n",
       "      <td>Celestial Black</td>\n",
       "      <td>Delivery\\nCheck\\nEnter pincode\\nUsually delive...</td>\n",
       "      <td>[https://www.flipkart.com/samsung-galaxy-f12-s...</td>\n",
       "    </tr>\n",
       "    <tr>\n",
       "      <th>2</th>\n",
       "      <td>SAMSUNG Galaxy F12 (Sea Green, 64 GB)  (4 GB RAM)</td>\n",
       "      <td>Galaxy F12</td>\n",
       "      <td>₹11,499</td>\n",
       "      <td>Sea Green</td>\n",
       "      <td>Delivery\\nCheck\\nEnter pincode\\nUsually delive...</td>\n",
       "      <td>[https://www.flipkart.com/samsung-galaxy-f12-s...</td>\n",
       "    </tr>\n",
       "    <tr>\n",
       "      <th>3</th>\n",
       "      <td>SAMSUNG Galaxy M12 (Black, 64 GB)  (4 GB RAM)</td>\n",
       "      <td>NA</td>\n",
       "      <td>₹10,631</td>\n",
       "      <td>NA</td>\n",
       "      <td>Highlights\\n4 GB RAM | 64 GB ROM\\n16.51 cm (6....</td>\n",
       "      <td>[https://www.flipkart.com/samsung-galaxy-f12-s...</td>\n",
       "    </tr>\n",
       "    <tr>\n",
       "      <th>4</th>\n",
       "      <td>SAMSUNG Galaxy M12 (Blue, 64 GB)  (4 GB RAM)</td>\n",
       "      <td>NA</td>\n",
       "      <td>₹10,636</td>\n",
       "      <td>NA</td>\n",
       "      <td>Highlights\\n4 GB RAM | 64 GB ROM\\n16.51 cm (6....</td>\n",
       "      <td>[https://www.flipkart.com/samsung-galaxy-f12-s...</td>\n",
       "    </tr>\n",
       "  </tbody>\n",
       "</table>\n",
       "</div>"
      ],
      "text/plain": [
       "                                          Brand-Name Smartphone Name    Price  \\\n",
       "0   SAMSUNG Galaxy F12 (Sky Blue, 64 GB)  (4 GB RAM)      Galaxy F12  ₹11,499   \n",
       "1  SAMSUNG Galaxy F12 (Celestial Black, 64 GB)  (...      Galaxy F12  ₹11,499   \n",
       "2  SAMSUNG Galaxy F12 (Sea Green, 64 GB)  (4 GB RAM)      Galaxy F12  ₹11,499   \n",
       "3      SAMSUNG Galaxy M12 (Black, 64 GB)  (4 GB RAM)              NA  ₹10,631   \n",
       "4       SAMSUNG Galaxy M12 (Blue, 64 GB)  (4 GB RAM)              NA  ₹10,636   \n",
       "\n",
       "      Mobile-Color                                  Mobile-Highlights  \\\n",
       "0         Sky Blue  Delivery\\nCheck\\nEnter pincode\\nUsually delive...   \n",
       "1  Celestial Black  Delivery\\nCheck\\nEnter pincode\\nUsually delive...   \n",
       "2        Sea Green  Delivery\\nCheck\\nEnter pincode\\nUsually delive...   \n",
       "3               NA  Highlights\\n4 GB RAM | 64 GB ROM\\n16.51 cm (6....   \n",
       "4               NA  Highlights\\n4 GB RAM | 64 GB ROM\\n16.51 cm (6....   \n",
       "\n",
       "                                         Product Url  \n",
       "0  [https://www.flipkart.com/samsung-galaxy-f12-s...  \n",
       "1  [https://www.flipkart.com/samsung-galaxy-f12-s...  \n",
       "2  [https://www.flipkart.com/samsung-galaxy-f12-s...  \n",
       "3  [https://www.flipkart.com/samsung-galaxy-f12-s...  \n",
       "4  [https://www.flipkart.com/samsung-galaxy-f12-s...  "
      ]
     },
     "execution_count": 28,
     "metadata": {},
     "output_type": "execute_result"
    }
   ],
   "source": [
    "data = pd.DataFrame()\n",
    "data['Brand-Name']=brand\n",
    "data['Smartphone Name']=smartphone_name\n",
    "data['Price']=prices\n",
    "data['Mobile-Color']=colour\n",
    "data['Mobile-Highlights']=des\n",
    "data['Product Url']=prod_urls\n",
    "\n",
    "data"
   ]
  }
 ],
 "metadata": {
  "kernelspec": {
   "display_name": "Python 3 (ipykernel)",
   "language": "python",
   "name": "python3"
  },
  "language_info": {
   "codemirror_mode": {
    "name": "ipython",
    "version": 3
   },
   "file_extension": ".py",
   "mimetype": "text/x-python",
   "name": "python",
   "nbconvert_exporter": "python",
   "pygments_lexer": "ipython3",
   "version": "3.9.7"
  }
 },
 "nbformat": 4,
 "nbformat_minor": 5
}
