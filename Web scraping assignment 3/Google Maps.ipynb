{
 "cells": [
  {
   "cell_type": "code",
   "execution_count": 1,
   "id": "b46e7d5a",
   "metadata": {},
   "outputs": [],
   "source": [
    "import selenium \n",
    "from selenium import webdriver\n",
    "from bs4 import BeautifulSoup\n",
    "import pandas as pd\n",
    "import warnings\n",
    "warnings.filterwarnings(\"ignore\")\n",
    "import time\n",
    "import requests\n",
    "from selenium.common.exceptions import StaleElementReferenceException,NoSuchElementException\n",
    "import re\n",
    "from selenium.webdriver.support.ui import WebDriverWait\n",
    "from selenium.webdriver.common.by import By\n",
    "from selenium.webdriver.support import expected_conditions as EC\n",
    "from selenium.webdriver.common.action_chains import ActionChains"
   ]
  },
  {
   "cell_type": "code",
   "execution_count": 9,
   "id": "203fb001",
   "metadata": {},
   "outputs": [
    {
     "name": "stdout",
     "output_type": "stream",
     "text": [
      "Enter user's input: bangalore\n"
     ]
    }
   ],
   "source": [
    "driver = webdriver.Chrome(r'C:\\dt\\chromedriver_win32\\chromedriver.exe')\n",
    "driver.get(\"https://www.google.com/maps\")\n",
    "time.sleep(3)\n",
    "search = driver.find_element_by_xpath('//input[@class=\"tactile-searchbox-input\"]')   #search\n",
    "a=input(\"Enter user's input: \")  \n",
    "search.send_keys(a)\n",
    "\n",
    "search1 =driver.find_element_by_xpath('//*[@id=\"searchbox-searchbutton\"]').click()        #search for the input value"
   ]
  },
  {
   "cell_type": "code",
   "execution_count": 11,
   "id": "a98a5de4",
   "metadata": {},
   "outputs": [
    {
     "name": "stdout",
     "output_type": "stream",
     "text": [
      "12.95385, 77.35072\n"
     ]
    }
   ],
   "source": [
    "\n",
    "wait = WebDriverWait(driver, 10)\n",
    "\n",
    "search = wait.until(EC.element_to_be_clickable((By.ID, \"searchboxinput\")))\n",
    "\n",
    "wait.until(EC.element_to_be_clickable((By.ID, \"searchbox-searchbutton\"))).click()\n",
    "\n",
    "ActionChains(driver).move_to_element(driver.find_element_by_xpath(\"//html/body\")).context_click().perform()\n",
    "time.sleep(6)\n",
    "print(wait.until(EC.visibility_of_element_located((By.CSS_SELECTOR, \"ul[role='menu']>li div div[class*='text']:nth-of-type(1)\"))).text)"
   ]
  },
  {
   "cell_type": "code",
   "execution_count": null,
   "id": "5072f344",
   "metadata": {},
   "outputs": [],
   "source": []
  }
 ],
 "metadata": {
  "kernelspec": {
   "display_name": "Python 3",
   "language": "python",
   "name": "python3"
  },
  "language_info": {
   "codemirror_mode": {
    "name": "ipython",
    "version": 3
   },
   "file_extension": ".py",
   "mimetype": "text/x-python",
   "name": "python",
   "nbconvert_exporter": "python",
   "pygments_lexer": "ipython3",
   "version": "3.8.8"
  }
 },
 "nbformat": 4,
 "nbformat_minor": 5
}
