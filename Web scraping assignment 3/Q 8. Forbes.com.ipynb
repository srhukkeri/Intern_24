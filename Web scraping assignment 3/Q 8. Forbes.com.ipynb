{
 "cells": [
  {
   "cell_type": "code",
   "execution_count": 1,
   "id": "024dc14c",
   "metadata": {},
   "outputs": [],
   "source": [
    "import selenium\n",
    "from selenium import webdriver\n",
    "import pandas as pd\n",
    "import warnings\n",
    "warnings.filterwarnings(\"ignore\")\n",
    "import time\n",
    "from selenium.webdriver.chrome.options import Options\n",
    "from selenium.common.exceptions import StaleElementReferenceException,NoSuchElementException\n",
    "from bs4 import BeautifulSoup"
   ]
  },
  {
   "cell_type": "code",
   "execution_count": 2,
   "id": "f5e39cbb",
   "metadata": {},
   "outputs": [],
   "source": [
    "options= Options()\n",
    "options.add_argument(\"--disable-infobars\")\n",
    "options.add_argument(\"start-maximized\")\n",
    "\n",
    "options.add_argument(\"--disable-extensions\")\n",
    "options.add_experimental_option(\"prefs\", { \n",
    "    \"profile.default_content_setting_values.notifications\": 1 \n",
    "})\n",
    "\n",
    "driver = webdriver.Chrome(r'C:\\dt\\chromedriver_win32\\chromedriver.exe' , chrome_options=options)\n",
    "url = ('https://www.forbes.com/')\n",
    "driver.get(url)\n",
    "driver.maximize_window()\n"
   ]
  },
  {
   "cell_type": "code",
   "execution_count": 3,
   "id": "b2b45ea7",
   "metadata": {},
   "outputs": [],
   "source": [
    "search = driver.find_element_by_xpath('//button[@class=\"icon--hamburger\"]').click()   # explore "
   ]
  },
  {
   "cell_type": "code",
   "execution_count": 4,
   "id": "2d0e3bed",
   "metadata": {},
   "outputs": [],
   "source": [
    "# open billionaires page\n",
    "\n",
    "b = []\n",
    "bil = driver.find_elements_by_xpath('/html/body/div[1]/header/nav/div[3]/ul/li[1]/div[2]/ul/li[2]/a')   \n",
    "for i in bil: \n",
    "    b.append(i.get_attribute('href'))\n"
   ]
  },
  {
   "cell_type": "code",
   "execution_count": 5,
   "id": "a78b0b6d",
   "metadata": {},
   "outputs": [
    {
     "data": {
      "text/plain": [
       "['https://www.forbes.com/billionaires/']"
      ]
     },
     "execution_count": 5,
     "metadata": {},
     "output_type": "execute_result"
    }
   ],
   "source": [
    "b"
   ]
  },
  {
   "cell_type": "code",
   "execution_count": 6,
   "id": "fbc28b73",
   "metadata": {},
   "outputs": [],
   "source": [
    "for i in b:\n",
    "    driver.get(i)\n",
    "    time.sleep(1)\n",
    "    try:\n",
    "        d =  driver.find_element_by_xpath('//span[@class=\"expand-row__icon\"]').click()\n",
    "        soup= BeautifulSoup(driver.page_source , 'lxml')\n",
    "        tb1 = soup.find_all('div', class_=\"header-row\")\n",
    "    except NoSuchElementException:\n",
    "        c.append(\"NA\")\n",
    "        "
   ]
  },
  {
   "cell_type": "code",
   "execution_count": 60,
   "id": "3dafdada",
   "metadata": {},
   "outputs": [],
   "source": [
    "soup= BeautifulSoup(driver.page_source , 'lxml')\n"
   ]
  },
  {
   "cell_type": "code",
   "execution_count": 7,
   "id": "d1081ec5",
   "metadata": {},
   "outputs": [
    {
     "data": {
      "text/plain": [
       "[\"THE RICHEST PEOPLE IN THE WORLD\\nCHANGE IN WEALTH KEY:\\n : UP\\n : DOWN\\n : UNCHANGED\\n : NEW TO LIST\\n : RETURNEE\\nOVERALL\\nAGE\\nWOMEN\\nNEW TO LIST\\nINDUSTRY\\nCOUNTRY / TERRITORY\\n★ :SPAC\\nRANK\\nNAME\\nNET WORTH\\nCOUNTRY / TERRITORY\\nSOURCE\\nIcons Of Excellence\\nBRANDVOICE | Under 30 Visionaries Creating New Paths To Sustainable Living\\nREAD MORE\\n1.\\nJeff Bezos\\n$177 B\\nUnited States\\nAmazon\\n2.\\nElon Musk\\n$151 B\\nUnited States\\nTesla, SpaceX\\n3.\\nBernard Arnault & family\\n$150 B\\nFrance\\nLVMH\\n4.\\nBill Gates\\n$124 B\\nUnited States\\nMicrosoft\\n5.\\nMark Zuckerberg\\n$97 B\\nUnited States\\nFacebook\\n6.\\nWarren Buffett\\n$96 B\\nUnited States\\nBerkshire Hathaway\\n7.\\nLarry Ellison\\n$93 B\\nUnited States\\nsoftware\\n8.\\nLarry Page\\n$91.5 B\\nUnited States\\nGoogle\\n9.\\nSergey Brin\\n$89 B\\nUnited States\\nGoogle\\n10.\\nMukesh Ambani\\n$84.5 B\\nIndia\\ndiversified\\n11.\\nAmancio Ortega\\n$77 B\\nSpain\\nZara\\n12.\\nFrancoise Bettencourt Meyers & family\\n$73.6 B\\nFrance\\nL'Oréal\\n13.\\nZhong Shanshan\\n$68.9 B\\nChina\\nbeverages, pharmaceuticals\\n14.\\nSteve Ballmer\\n$68.7 B\\nUnited States\\nMicrosoft\\n15.\\nMa Huateng\\n$65.8 B\\nChina\\ninternet media\\nQuiz: Who Wants To Be A Billionaire?\\nTest your knowledge of the world's wealthiest people.\\nREAD MORE\\n16.\\nCarlos Slim Helu & family\\n$62.8 B\\nMexico\\ntelecom\\n17.\\nAlice Walton\\n$61.8 B\\nUnited States\\nWalmart\\n18.\\nJim Walton\\n$60.2 B\\nUnited States\\nWalmart\\n19.\\nRob Walton\\n$59.5 B\\nUnited States\\nWalmart\\n20.\\nMichael Bloomberg\\n$59 B\\nUnited States\\nBloomberg LP\\n21.\\nColin Zheng Huang\\n$55.3 B\\nChina\\ne-commerce\\n22.\\nMacKenzie Scott\\n$53 B\\nUnited States\\nAmazon\\n23.\\nDaniel Gilbert\\n$51.9 B\\nUnited States\\nQuicken Loans\\n24.\\nGautam Adani & family\\n$50.5 B\\nIndia\\ninfrastructure, commodities\\n25.\\nPhil Knight & family\\n$49.9 B\\nUnited States\\nNike\\n26.\\nJack Ma\\n$48.4 B\\nChina\\ne-commerce\\n27.\\nCharles Koch\\n$46.4 B\\nUnited States\\nKoch Industries\\n27.\\nJulia Koch & family\\n$46.4 B\\nUnited States\\nKoch Industries\\n29.\\nMasayoshi Son\\n$45.4 B\\nJapan\\ninternet, telecom\\n30.\\nMichael Dell\\n$45.1 B\\nUnited States\\nDell computers\\nThe World’s Youngest Billionaires Include A Teenager From Germany, A Crypto Magnate And Stanford Dropout\\nFrom a 18-year-old heir to a 29-year-old crypto magnate, the ten billionaires under the age of 30 have a combined net worth of $29.5 billion.\\nREAD MORE\\n31.\\nTadashi Yanai & family\\n$44.1 B\\nJapan\\nfashion retail\\n32.\\nFrançois Pinault & family\\n$42.3 B\\nFrance\\nluxury goods\\n33.\\nDavid Thomson & family\\n$41.8 B\\nCanada\\nmedia\\n34.\\nBeate Heister & Karl Albrecht Jr.\\n$39.2 B\\nGermany\\nsupermarkets\\n35.\\nWang Wei\\n$39 B\\nChina\\npackage delivery\\n36.\\nMiriam Adelson\\n$38.2 B\\nUnited States\\ncasinos\\n37.\\nHe Xiangjian\\n$37.7 B\\nChina\\nhome appliances\\n38.\\nDieter Schwarz\\n$36.9 B\\nGermany\\nretail\\n39.\\nZhang Yiming\\n$35.6 B\\nChina\\nTikTok\\n40.\\nGiovanni Ferrero\\n$35.1 B\\nItaly\\nNutella, chocolates\\n41.\\nAlain Wertheimer\\n$34.5 B\\nFrance\\nChanel\\n41.\\nGerard Wertheimer\\n$34.5 B\\nFrance\\nChanel\\n43.\\nLi Ka-shing\\n$33.7 B\\nHong Kong\\ndiversified\\n44.\\nQin Yinglin & family\\n$33.5 B\\nChina\\npig breeding\\n45.\\nWilliam Lei Ding\\n$33 B\\nChina\\nonline games\\nTimeline: Musk and Bezos Race To The Top\\nJeff Bezos and Elon Musk have reached the stratosphere—with each rocket man amassing more than $150 billion. Here, a timeline of their journey to the top.\\nREAD MORE\\n46.\\nLen Blavatnik\\n$32 B\\nUnited States\\nmusic, chemicals\\n47.\\nLee Shau Kee\\n$31.7 B\\nHong Kong\\nreal estate\\n48.\\nJacqueline Mars\\n$31.3 B\\nUnited States\\ncandy, pet food\\n48.\\nJohn Mars\\n$31.3 B\\nUnited States\\ncandy, pet food\\n50.\\nYang Huiyan & family\\n$29.6 B\\nChina\\nreal estate\\n51.\\nAlexey Mordashov & family\\n$29.1 B\\nRussia\\nsteel, investments\\n52.\\nRobin Zeng\\n$28.4 B\\nHong Kong\\nbatteries\\n53.\\nHui Ka Yan\\n$27.7 B\\nChina\\nreal estate\\n53.\\nSusanne Klatten\\n$27.7 B\\nGermany\\nBMW, pharmaceuticals\\n55.\\nVladimir Potanin\\n$27 B\\nRussia\\nmetals\\n56.\\nDietrich Mateschitz\\n$26.9 B\\nAustria\\nRed Bull\\n57.\\nPang Kang\\n$26.4 B\\nChina\\nsoy sauce\\n58.\\nKlaus-Michael Kuehne\\n$26.3 B\\nGermany\\nshipping\\n59.\\nVladimir Lisin\\n$26.2 B\\nRussia\\nsteel, transport\\n60.\\nWang Xing\\n$26.1 B\\nChina\\ne-commerce\\nNearly 500 People Have Become Billionaires During The Pandemic Year\\nA new billionaire every 17 hours: Here are the most notable newcomers on Forbes' 2021 World's Billionaires list.\\nREAD MORE\\n61.\\nGerman Larrea Mota Velasco & family\\n$25.9 B\\nMexico\\nmining\\n62.\\nLeonardo Del Vecchio & family\\n$25.8 B\\nItaly\\neyeglasses\\n62.\\nTakemitsu Takizaki\\n$25.8 B\\nJapan\\nsensors\\n64.\\nLeonard Lauder\\n$25.5 B\\nUnited States\\nEstee Lauder\\n65.\\nThomas Peterffy\\n$25 B\\nUnited States\\ndiscount brokerage\\n66.\\nVagit Alekperov\\n$24.9 B\\nRussia\\noil\\n66.\\nLeonid Mikhelson\\n$24.9 B\\nRussia\\ngas, chemicals\\n68.\\nJim Simons\\n$24.6 B\\nUnited States\\nhedge funds\\n69.\\nJiang Rensheng & family\\n$24.4 B\\nChina\\nvaccines\\n70.\\nGina Rinehart\\n$23.6 B\\nAustralia\\nmining\\n71.\\nRupert Murdoch & family\\n$23.5 B\\nUnited States\\nnewspapers, TV network\\n71.\\nShiv Nadar\\n$23.5 B\\nIndia\\nsoftware services\\n73.\\nZhang Zhidong\\n$23.4 B\\nChina\\ninternet media\\n74.\\nIris Fontbona & family\\n$23.3 B\\nChile\\nmining\\n75.\\nLei Jun\\n$23 B\\nChina\\nsmartphones\\nRevenge Of The Winklevii\\nAfter losing an epic battle with Mark Zuckerberg over ownership of Facebook, Cameron and Tyler Winklevoss are back--this time as Bitcoin billionaires at the center of the future of money and the creative economy.\\nREAD MORE\\n75.\\nZhang Yong\\n$23 B\\nSingapore\\nrestaurants\\n77.\\nRichard Qiangdong Liu\\n$22.4 B\\nChina\\ne-commerce\\n78.\\nGennady Timchenko\\n$22 B\\nRussia\\noil, gas\\n79.\\nStephen Schwarzman\\n$21.9 B\\nUnited States\\ninvestments\\n80.\\nGoh Cheng Liang\\n$21.7 B\\nSingapore\\npaints\\n81.\\nStefan Quandt\\n$21.6 B\\nGermany\\nBMW\\n82.\\nLi Xiting\\n$21.5 B\\nSingapore\\nmedical devices\\n83.\\nPierre Omidyar\\n$21.4 B\\nUnited States\\neBay, PayPal\\n84.\\nStefan Persson\\n$21.3 B\\nSweden\\nH&M\\n85.\\nAbigail Johnson\\n$20.9 B\\nUnited States\\nmoney management\\n86.\\nR. Budi Hartono\\n$20.5 B\\nIndonesia\\nbanking, tobacco\\n87.\\nAndrew Forrest\\n$20.4 B\\nAustralia\\nmining\\n88.\\nRay Dalio\\n$20.3 B\\nUnited States\\nhedge funds\\n89.\\nMichael Hartono\\n$19.7 B\\nIndonesia\\nbanking, tobacco\\n89.\\nLi Shufu\\n$19.7 B\\nChina\\nautomobiles\\nThe Top Richest Women In The World In 2021\\nForbes’ 2021 list of the World’s Billionaires features 328 women, up more than 36% from the previous year, including a new world’s youngest self-made woman billionaire.\\nREAD MORE\\n89.\\nZhong Huijuan\\n$19.7 B\\nChina\\npharmaceuticals\\n92.\\nXu Hang\\n$19.5 B\\nHong Kong\\nmedical devices\\n93.\\nLui Che Woo\\n$19.4 B\\nHong Kong\\ncasinos/hotels\\n94.\\nEmmanuel Besnier\\n$19.1 B\\nFrance\\ncheese\\n95.\\nLaurene Powell Jobs & family\\n$19 B\\nUnited States\\nApple, Disney\\n96.\\nEric Schmidt\\n$18.9 B\\nUnited States\\nGoogle\\n96.\\nSun Piaoyang\\n$18.9 B\\nChina\\npharmaceuticals\\n98.\\nTheo Albrecht, Jr. & family\\n$18.8 B\\nGermany\\nAldi, Trader Joe's\\n99.\\nAlisher Usmanov\\n$18.4 B\\nRussia\\nsteel, telecom, investments\\n100.\\nRobert Pera\\n$18.3 B\\nUnited States\\nwireless networking gear\\n100.\\nWu Yajun\\n$18.3 B\\nChina\\nreal estate\\n102.\\nFan Hongwei & family\\n$18.2 B\\nChina\\npetrochemicals\\n103.\\nDhanin Chearavanont\\n$18.1 B\\nThailand\\ndiversified\\n104.\\nPeter Woo\\n$18 B\\nHong Kong\\nreal estate\\n105.\\nChen Bang\\n$17.9 B\\nChina\\nhospitals\\nThe World’s Richest Billionaire Sports Team Owners 2021\\nThe 20 richest controlling owners of teams in major sports leagues around the world have a combined net worth of $426 billion, up 60% during what has been a record year for billionaire wealth.\\nREAD MORE\\n105.\\nAndrey Melnichenko\\n$17.9 B\\nRussia\\ncoal, fertilizers\\n107.\\nDustin Moskovitz\\n$17.8 B\\nUnited States\\nFacebook\\n107.\\nSu Hua\\n$17.8 B\\nChina\\nvideo streaming\\n109.\\nDonald Newhouse\\n$17.6 B\\nUnited States\\nmedia\\n110.\\nPetr Kellner\\n$17.5 B\\nCzechia\\nfinance, telecommunications\\n111.\\nLee Man Tat\\n$17.4 B\\nHong Kong\\nfood\\n112.\\nPavel Durov\\n$17.2 B\\nRussia\\nmessaging app\\n113.\\nJames Ratcliffe\\n$17 B\\nUnited Kingdom\\nchemicals\\n114.\\nJorge Paulo Lemann & family\\n$16.9 B\\nBrazil\\nbeer\\n115.\\nReinhold Wuerth & family\\n$16.8 B\\nGermany\\nfasteners\\n116.\\nCharlene de Carvalho-Heineken & family\\n$16.7 B\\nNetherlands\\nHeineken\\n117.\\nRadhakishan Damani\\n$16.5 B\\nIndia\\nretail, investments\\n118.\\nWang Chuanfu\\n$16.3 B\\nChina\\nbatteries, automobiles\\n119.\\nSteve Cohen\\n$16 B\\nUnited States\\nhedge funds\\n119.\\nKen Griffin\\n$16 B\\nUnited States\\nhedge funds\\nKim Kardashian West Is Officially A Billionaire\\nWith KKW Beauty and popular shapewear firm Skims, Kardashian West’s net worth increases to $1 billion, earning her a spot on Forbes Billionaires List 2021.\\nREAD MORE\\n121.\\nChen Zhiping\\n$15.9 B\\nChina\\ne-cigarettes\\n121.\\nErnest Garcia, II.\\n$15.9 B\\nUnited States\\nused cars\\n121.\\nUday Kotak\\n$15.9 B\\nIndia\\nbanking\\n124.\\nCarl Icahn\\n$15.8 B\\nUnited States\\ninvestments\\n124.\\nSuleiman Kerimov & family\\n$15.8 B\\nRussia\\ninvestments\\n126.\\nThomas Frist, Jr. & family\\n$15.7 B\\nUnited States\\nhospitals\\n127.\\nLukas Walton\\n$15.6 B\\nUnited States\\nWalmart\\n128.\\nMikhail Fridman\\n$15.5 B\\nRussia\\noil, banking, telecom\\n128.\\nWei Jianjun & family\\n$15.5 B\\nChina\\nautomobiles\\n128.\\nZuo Hui\\n$15.5 B\\nChina\\nreal estate services\\n131.\\nZhou Qunfei & family\\n$15.4 B\\nHong Kong\\nsmartphone screens\\n132.\\nDonald Bren\\n$15.3 B\\nUnited States\\nreal estate\\n133.\\nHinduja brothers\\n$14.9 B\\nUnited Kingdom\\ndiversified\\n133.\\nLakshmi Mittal\\n$14.9 B\\nIndia\\nsteel\\n133.\\nGeorg Schaeffler\\n$14.9 B\\nGermany\\nauto parts\\nThe Countries With The Most Billionaires 2021\\nJust under half of the world’s 2,755 billionaires are citizens of the U.S. or China, and nearly every country has more billionaires than they did at the outset of the pandemic in mid-March 2020.\\nREAD MORE\\n133.\\nEric Yuan & family\\n$14.9 B\\nUnited States\\nvideo conferencing\\n137.\\nWang Jianlin\\n$14.8 B\\nChina\\nreal estate\\n138.\\nKwong Siu-hing\\n$14.7 B\\nHong Kong\\nreal estate\\n138.\\nRobin Li\\n$14.7 B\\nChina\\ninternet search\\n140.\\nPallonji Mistry\\n$14.6 B\\nIreland\\nconstruction\\n140.\\nEduardo Saverin\\n$14.6 B\\nBrazil\\nFacebook\\n142.\\nRoman Abramovich\\n$14.5 B\\nRussia\\nsteel, investments\\n142.\\nDavid Tepper\\n$14.5 B\\nUnited States\\nhedge funds\\n144.\\nGong Hongjia & family\\n$14.4 B\\nHong Kong\\nvideo surveillance\\n145.\\nMike Cannon-Brookes\\n$14.2 B\\nAustralia\\nsoftware\\n145.\\nJohn Menard, Jr.\\n$14.2 B\\nUnited States\\nhome improvement stores\\n145.\\nSeo Jung-jin\\n$14.2 B\\nSouth Korea\\nbiotech\\n148.\\nCheng Yixiao\\n$14.1 B\\nChina\\nvideo streaming app\\n148.\\nLiang Wengen\\n$14.1 B\\nChina\\nconstruction equipment\\n150.\\nScott Farquhar\\n$14 B\\nAustralia\\nsoftware\\nMeet The 40 New Billionaires Who Got Rich Fighting Covid-19\\nSome made their fortunes developing new vaccines and promising antibody treatments, while others sell much-needed diagnostic tests and personal protective equipment.\\nREAD MORE\\n151.\\nFinn Rausing\\n$13.9 B\\nSweden\\npackaging\\n151.\\nJorn Rausing\\n$13.9 B\\nSweden\\npackaging\\n151.\\nKirsten Rausing\\n$13.9 B\\nSweden\\npackaging\\n154.\\nBrian Chesky\\n$13.7 B\\nUnited States\\nAirbnb\\n155.\\nJoseph Lau\\n$13.6 B\\nHong Kong\\nreal estate\\n156.\\nDavid Duffield\\n$13.5 B\\nUnited States\\nbusiness software\\n156.\\nCharoen Sirivadhanabhakdi\\n$13.5 B\\nThailand\\nalcohol, real estate\\n158.\\nKim Jung-ju\\n$13.3 B\\nSouth Korea\\nonline games\\n158.\\nRobert & Philip Ng\\n$13.3 B\\nSingapore\\nreal estate\\n158.\\nZhang Bangxin\\n$13.3 B\\nChina\\neducation\\n161.\\nAnders Holch Povlsen\\n$13.2 B\\nDenmark\\nfashion retail\\n161.\\nWang Wenyin\\n$13.2 B\\nChina\\nmining, copper products\\n163.\\nWang Liping & family\\n$13.1 B\\nChina\\nhydraulic machinery\\n164.\\nTatyana Bakalchuk\\n$13 B\\nRussia\\necommerce\\n164.\\nMichael Platt\\n$13 B\\nUnited Kingdom\\nhedge funds\\nThe 10 Richest Chinese Billionaires In 2021\\nFrom the man behind TikTok to a bottled water mogul, China’s billionaires have had a bounce back year, as its 10 richest roughly doubled their fortunes compared to a year ago.\\nREAD MORE\\n166.\\nHuang Shilin\\n$12.9 B\\nChina\\nbatteries\\n166.\\nRicardo Salinas Pliego & family\\n$12.9 B\\nMexico\\nretail, media\\n168.\\nKumar Birla\\n$12.8 B\\nIndia\\ncommodities\\n169.\\nDang Yanbao\\n$12.7 B\\nChina\\ncoal\\n169.\\nCyrus Poonawalla\\n$12.7 B\\nIndia\\nvaccines\\n171.\\nRobert Kuok\\n$12.6 B\\nMalaysia\\npalm oil, shipping, property\\n171.\\nHank & Doug Meijer\\n$12.6 B\\nUnited States\\nsupermarkets\\n173.\\nJack Dorsey\\n$12.5 B\\nUnited States\\nTwitter, Square\\n173.\\nLu Zhongfang\\n$12.5 B\\nChina\\neducation\\n173.\\nMa Jianrong & family\\n$12.5 B\\nChina\\ntextiles, apparel\\n173.\\nZhang Tao\\n$12.5 B\\nChina\\ne-commerce\\n177.\\nNathan Blecharczyk\\n$12.4 B\\nUnited States\\nAirbnb\\n177.\\nJohn Doerr\\n$12.4 B\\nUnited States\\nventure capital\\n177.\\nJoe Gebbia\\n$12.4 B\\nUnited States\\nAirbnb\\n177.\\nForrest Li\\n$12.4 B\\nSingapore\\ngaming\\nThe 10 Richest American Billionaires 2021\\nThe Americans sitting atop Forbes’ new list of the world’s richest are far wealthier than they were a year ago.\\nREAD MORE\\n181.\\nYu Renrong\\n$12.3 B\\nChina\\nsemiconductors\\n182.\\nLiu Yonghao & family\\n$12.1 B\\nChina\\nagribusiness\\n182.\\nGordon Moore\\n$12.1 B\\nUnited States\\nIntel\\n184.\\nJeff Yass\\n$12 B\\nUnited States\\ntrading, investments\\n185.\\nBobby Murphy\\n$11.9 B\\nUnited States\\nSnapchat\\n186.\\nPatrick Drahi\\n$11.8 B\\nFrance\\ntelecom\\n186.\\nJensen Huang\\n$11.8 B\\nUnited States\\nsemiconductors\\n186.\\nAlexander Otto\\n$11.8 B\\nGermany\\nreal estate\\n189.\\nCen Junda\\n$11.6 B\\nChina\\npharmaceuticals\\n189.\\nJoseph Tsai\\n$11.6 B\\nCanada\\ne-commerce\\n191.\\nAliko Dangote\\n$11.5 B\\nNigeria\\ncement, sugar\\n191.\\nMarcel Herrmann Telles\\n$11.5 B\\nBrazil\\nbeer\\n193.\\nMikhail Prokhorov\\n$11.4 B\\nRussia\\ninvestments\\n194.\\nJorge Moll Filho & family\\n$11.3 B\\nBrazil\\nhospitals\\n195.\\nViktor Rashnikov\\n$11.2 B\\nRussia\\nsteel\\nOperation Wealth Speed\\nCovid-19 brought terrible suffering, economic pain, geopolitical tension—and the greatest acceleration of wealth in human history. Why this pandemic paradox could become a cause for celebration, not concern.\\nREAD MORE\\n195.\\nHarry Triguboff\\n$11.2 B\\nAustralia\\nreal estate\\n197.\\nLeonid Fedun & family\\n$11.1 B\\nRussia\\noil\\n197.\\nEyal Ofer\\n$11.1 B\\nIsrael\\nreal estate, shipping\\n197.\\nEvan Spiegel\\n$11.1 B\\nUnited States\\nSnapchat\\n200.\\nLuis Carlos Sarmiento\\n$11 B\\nColombia\\nbanking\\nSpreadsheet\\nReprints\\nPrevious 200\\nNext 200\"]"
      ]
     },
     "execution_count": 7,
     "metadata": {},
     "output_type": "execute_result"
    }
   ],
   "source": [
    "bil=[]\n",
    "billionaire =driver.find_element_by_xpath('//*[@id=\"gatsby-focus-wrapper\"]/div/div/div[3]')\n",
    "bil.append(billionaire.text)\n",
    "bil"
   ]
  },
  {
   "cell_type": "code",
   "execution_count": null,
   "id": "783d4faa",
   "metadata": {},
   "outputs": [],
   "source": []
  },
  {
   "cell_type": "code",
   "execution_count": null,
   "id": "c6cc1d7f",
   "metadata": {},
   "outputs": [],
   "source": []
  },
  {
   "cell_type": "code",
   "execution_count": null,
   "id": "5242b6bb",
   "metadata": {},
   "outputs": [],
   "source": []
  },
  {
   "cell_type": "code",
   "execution_count": null,
   "id": "776080f0",
   "metadata": {},
   "outputs": [],
   "source": []
  },
  {
   "cell_type": "code",
   "execution_count": null,
   "id": "27ca5754",
   "metadata": {},
   "outputs": [],
   "source": []
  },
  {
   "cell_type": "code",
   "execution_count": null,
   "id": "0c994282",
   "metadata": {},
   "outputs": [],
   "source": []
  },
  {
   "cell_type": "code",
   "execution_count": null,
   "id": "7d15a9e7",
   "metadata": {},
   "outputs": [],
   "source": []
  }
 ],
 "metadata": {
  "kernelspec": {
   "display_name": "Python 3",
   "language": "python",
   "name": "python3"
  },
  "language_info": {
   "codemirror_mode": {
    "name": "ipython",
    "version": 3
   },
   "file_extension": ".py",
   "mimetype": "text/x-python",
   "name": "python",
   "nbconvert_exporter": "python",
   "pygments_lexer": "ipython3",
   "version": "3.8.8"
  }
 },
 "nbformat": 4,
 "nbformat_minor": 5
}
