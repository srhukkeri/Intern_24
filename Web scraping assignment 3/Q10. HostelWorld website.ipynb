{
 "cells": [
  {
   "cell_type": "code",
   "execution_count": 1,
   "id": "31c350e0",
   "metadata": {},
   "outputs": [],
   "source": [
    "import selenium \n",
    "from selenium import webdriver\n",
    "from bs4 import BeautifulSoup\n",
    "import pandas as pd\n",
    "import warnings\n",
    "warnings.filterwarnings(\"ignore\")\n",
    "import time\n",
    "import requests\n",
    "from selenium.common.exceptions import StaleElementReferenceException,NoSuchElementException,ElementNotInteractableException, TimeoutException, ElementNotVisibleException\n",
    "from selenium.webdriver.common.by import By\n",
    "from selenium.webdriver.support.ui import WebDriverWait\n",
    "import re\n",
    "from selenium.webdriver.support import expected_conditions as EC\n"
   ]
  },
  {
   "cell_type": "code",
   "execution_count": 3,
   "id": "7a8654f1",
   "metadata": {},
   "outputs": [],
   "source": [
    "driver = webdriver.Chrome(r'C:\\Users\\hp\\Downloads\\chromedriver_win32 (1)\\chromedriver.exe')\n",
    "driver.get(\"https://www.hostelworld.com/hostels/London\")\n",
    "delay=5\n",
    "search = driver.find_element_by_xpath('//button[@type=\"submit\"]').click()\n"
   ]
  },
  {
   "cell_type": "code",
   "execution_count": 4,
   "id": "3076690e",
   "metadata": {},
   "outputs": [
    {
     "data": {
      "text/plain": [
       "30"
      ]
     },
     "execution_count": 4,
     "metadata": {},
     "output_type": "execute_result"
    }
   ],
   "source": [
    "url=[]\n",
    "a=driver.find_elements_by_xpath('//a[@class=\"view-button\"]')\n",
    "for i in a:\n",
    "    url.append(i.get_attribute(\"href\"))\n",
    "n=len(url)\n",
    "n"
   ]
  },
  {
   "cell_type": "code",
   "execution_count": 41,
   "id": "73af0fbc",
   "metadata": {},
   "outputs": [],
   "source": [
    "hostel_name=[]\n",
    "distance=[]\n",
    "ratings=[]\n",
    "total_reviews=[]\n",
    "overall_reviews=[]\n",
    "dorm_price=[]\n",
    "facility=[]\n",
    "property_des=[]\n",
    "\n",
    "\n"
   ]
  },
  {
   "cell_type": "code",
   "execution_count": 5,
   "id": "319f082d",
   "metadata": {},
   "outputs": [
    {
     "data": {
      "text/plain": [
       "5"
      ]
     },
     "execution_count": 5,
     "metadata": {},
     "output_type": "execute_result"
    }
   ],
   "source": [
    "hostel_name=[]\n",
    "ratings=[]\n",
    "\n",
    "for i in url[0:5]:\n",
    "    driver.get(i)\n",
    "    \n",
    "    try:\n",
    "        hostel= driver.find_element_by_xpath('//*[@id=\"__layout\"]/div/div[1]/section/div[4]/div/div[1]/h1/div')\n",
    "        hostel_name.append(hostel.text)\n",
    "    except NoSuchElementException:\n",
    "        hostel_name.append(\"NA\")\n",
    "        \n",
    "len(hostel_name)\n",
    "   "
   ]
  },
  {
   "cell_type": "code",
   "execution_count": 6,
   "id": "35f69b67",
   "metadata": {},
   "outputs": [
    {
     "data": {
      "text/plain": [
       "5"
      ]
     },
     "execution_count": 6,
     "metadata": {},
     "output_type": "execute_result"
    }
   ],
   "source": [
    "ratings=[]\n",
    "\n",
    "for i in url[0:5]:\n",
    "    driver.get(i)\n",
    "    time.sleep(1)\n",
    "    try:\n",
    "        rate= driver.find_element_by_xpath('//*[@id=\"__layout\"]/div/div[1]/section/div[6]/div/div[1]/div[1]/div[1]')\n",
    "        ratings.append(rate.text)\n",
    "    except NoSuchElementException:\n",
    "        ratings.append(\"NA\")\n",
    "len(ratings)"
   ]
  },
  {
   "cell_type": "code",
   "execution_count": 7,
   "id": "dbc7ce0c",
   "metadata": {},
   "outputs": [
    {
     "data": {
      "text/plain": [
       "5"
      ]
     },
     "execution_count": 7,
     "metadata": {},
     "output_type": "execute_result"
    }
   ],
   "source": [
    "total_reviews=[]\n",
    "\n",
    "for i in url[0:5]:\n",
    "    driver.get(i)\n",
    "    time.sleep(1)\n",
    "    try:\n",
    "        review= driver.find_element_by_xpath('//*[@id=\"__layout\"]/div/div[1]/section/div[6]/div/div[1]/div[1]/div[2]/div[2]')\n",
    "        total_reviews.append(review.text)\n",
    "    except NoSuchElementException:\n",
    "        total_reviews.append(\"NA\")\n",
    "len(total_reviews)\n",
    "\n"
   ]
  },
  {
   "cell_type": "code",
   "execution_count": 8,
   "id": "93e51cb8",
   "metadata": {},
   "outputs": [
    {
     "data": {
      "text/plain": [
       "5"
      ]
     },
     "execution_count": 8,
     "metadata": {},
     "output_type": "execute_result"
    }
   ],
   "source": [
    "overall_reviews=[]\n",
    "\n",
    "for i in url[0:5]:\n",
    "    driver.get(i)\n",
    "    time.sleep(1)\n",
    "    try:\n",
    "        review= driver.execute_script(\"arguments[0].click();\", WebDriverWait(driver, 20).until(EC.element_to_be_clickable((By.XPATH, '//div[@class=\"reviews\"]'))))\n",
    "        time.sleep(1)\n",
    "        c=driver.find_element_by_xpath('//*[@id=\"__layout\"]/div/div[1]/section/div[14]/div[2]/div/div[2]/section[4]')\n",
    "        \n",
    "        overall_reviews.append(c.text)\n",
    "    except NoSuchElementException:\n",
    "        overall_reviews.append(\"NA\")\n",
    "len(overall_reviews)\n",
    "\n"
   ]
  },
  {
   "cell_type": "code",
   "execution_count": 9,
   "id": "40693616",
   "metadata": {},
   "outputs": [
    {
     "data": {
      "text/plain": [
       "5"
      ]
     },
     "execution_count": 9,
     "metadata": {},
     "output_type": "execute_result"
    }
   ],
   "source": [
    "dorm_price=[]\n",
    "\n",
    "for i in url[0:5]:\n",
    "    driver.get(i)\n",
    "    time.sleep(1)\n",
    "    try:\n",
    "        price= driver.find_element_by_xpath('//div[@class=\"price\"]')\n",
    "        dorm_price.append(price.text)\n",
    "    except NoSuchElementException:\n",
    "        dorm_price.append(\"NA\")\n",
    "len(dorm_price)"
   ]
  },
  {
   "cell_type": "code",
   "execution_count": 10,
   "id": "ad180dfe",
   "metadata": {},
   "outputs": [
    {
     "data": {
      "text/plain": [
       "5"
      ]
     },
     "execution_count": 10,
     "metadata": {},
     "output_type": "execute_result"
    }
   ],
   "source": [
    "facility=[]\n",
    "\n",
    "for i in url[0:5]:\n",
    "    driver.get(i)\n",
    "    time.sleep(1)\n",
    "    try:\n",
    "        faci= driver.find_element_by_xpath('//*[@id=\"facilities-section\"]/div/ul')\n",
    "        facility.append(faci.text)\n",
    "    except NoSuchElementException:\n",
    "        facility.append(\"NA\")\n",
    "len(facility)"
   ]
  },
  {
   "cell_type": "code",
   "execution_count": 11,
   "id": "81d17faf",
   "metadata": {},
   "outputs": [
    {
     "data": {
      "text/plain": [
       "5"
      ]
     },
     "execution_count": 11,
     "metadata": {},
     "output_type": "execute_result"
    }
   ],
   "source": [
    "property_des=[]\n",
    "\n",
    "for i in url[0:5]:\n",
    "    driver.get(i)\n",
    "    time.sleep(1)\n",
    "    try:\n",
    "        desc= driver.find_element_by_xpath('//*[@id=\"__layout\"]/div/div[1]/section/div[6]/div/div[2]/div[2]/div/div[2]')\n",
    "        property_des.append(desc.text)\n",
    "    except NoSuchElementException:\n",
    "        property_des.append(\"NA\")\n",
    "len(property_des)"
   ]
  },
  {
   "cell_type": "code",
   "execution_count": 12,
   "id": "1aa5a260",
   "metadata": {},
   "outputs": [
    {
     "name": "stdout",
     "output_type": "stream",
     "text": [
      "[\"St Christopher's Village\", 'Safestay London Elephant & Castle', 'Smart Camden Inn Hostel', 'Generator London', 'Urbany Hostel London']\n",
      "['8.2', '8.0', '8.5', '7.8', '9.6']\n",
      "['11021 Total Reviews', '4074 Total Reviews', '2760 Total Reviews', '6828 Total Reviews', 'NA']\n",
      "['NA', '', 'NA', '', 'NA']\n",
      "['Rs2268.11', 'Rs2843.16', 'Rs2569.18', 'Rs2951.55', 'Rs2944.53']\n",
      "['Free\\nLinen Included Free City Maps Free WiFi Free Internet Access Free City Tour\\nGeneral\\nSecurity Lockers Key Card Access Common Room Elevator Breakfast Not Included Air Conditioning Adaptors Book Exchange Hot Showers Dryer Reading Light Hair Dryers For Hire Hair Dryers Iron / Ironing Board Towels Not Included Follows Covid-19 sanitation guidance\\nServices\\nInternet access Laundry Facilities Towels for hire Luggage Storage 24 Hour Reception Tours/Travel Desk 24 Hour Security Housekeeping\\nFood & Drink\\nRestaurant Bar Meals Available Vending Machines Tea & Coffee Making Facilities\\nEntertainment\\nNightclub Games Room Wi-Fi', 'Free\\nLinen Included Free City Maps Free WiFi\\nGeneral\\nSecurity Lockers Key Card Access Common Room Elevator Adaptors Hot Showers Cots Available Dryer Outdoor Terrace Reading Light Hair Dryers For Hire Iron / Ironing Board Washing Machine Towels Not Included Flexible NRR Follows Covid-19 sanitation guidance\\nServices\\nInternet access Laundry Facilities Towels for hire Luggage Storage Fax Service 24 Hour Reception ATM 24 Hour Security Housekeeping Late check-out\\nFood & Drink\\nBar Vending Machines Cafe\\nEntertainment\\nPool Table Wi-Fi', 'Free\\nLinen Included Free City Maps Free WiFi\\nGeneral\\nSecurity Lockers Key Card Access Common Room Breakfast Not Included Hot Showers Self-Catering Facilities Cooker Fridge/Freezer Utensils Reading Light Hair Dryers For Hire Hair Dryers Iron / Ironing Board Microwave Washing Machine Towels Not Included Flexible NRR Follows Covid-19 sanitation guidance\\nServices\\nLaundry Facilities Luggage Storage 24 Hour Reception Tours/Travel Desk 24 Hour Security Late check-out\\nEntertainment\\nWi-Fi', 'Free\\nLinen Included Free City Maps Free WiFi Free Internet Access\\nGeneral\\nWheelchair Friendly Security Lockers Key Card Access Common Room Elevator Bicycle Parking Breakfast Not Included Meeting Rooms Hot Showers Reading Light Safe Deposit Box Card Phones Washing Machine Towels Not Included Flexible NRR Follows Covid-19 sanitation guidance\\nServices\\nInternet access Laundry Facilities Airport Transfers Bicycle Hire Towels for hire Luggage Storage 24 Hour Reception Tours/Travel Desk ATM Shuttle Bus 24 Hour Security Housekeeping Express check-in / out Late check-out Reception (limited hours)\\nFood & Drink\\nRestaurant Bar Meals Available Vending Machines Cafe\\nEntertainment\\nNightclub Board Games Games Room Pool Table Foosball Wi-Fi', 'Free\\nLinen Included Free WiFi\\nGeneral\\nSecurity Lockers Microwave Follows Covid-19 sanitation guidance\\nServices\\nLuggage Storage 24 Hour Reception\\nFood & Drink\\nTea & Coffee Making Facilities\\nEntertainment\\nWi-Fi']\n",
      "[\"COVID 19 Policy Update.\\nIn response to Coronavirus (COVID-19), additional safety and sanitation measures are currently in effect at this property, including in-house disinfection. \\n\\nSt Christopher's Inn at The Village in London Bridge is the UK's first capsule hostel. Its brand new rooms have been specially designed for our guests to get the best night sleep possible before they wake up in amongst one of London's most vibrant areas. \\n\\nVoted as one of the best party hostels in the world, our multi-award winning hostel offers guests Japanese-style capsule beds with USB ports, cool mood lighting and curtains for privacy. We even have new private rooms with one having an awesome view of the Shard right outside!\\n\\nStep out the door and you'll be just a short walk away from the London Eye, Tower Bridge and the oldest food market in the city, Borough Market. We're also only a two minute walk from TWO tube stations so getting anywhere in London couldn't be easier. \\n\\nParty into the night in our hostel party bar Belushi's, head down to the Dugout to watch live sports and indulge in our legendary burgers with a discount for all our guests.\\n\\n*Please note that we require an in date government approved - drivers license, passport or national ID card at check-in.\\n\\n**Guests under the age of 18 must stay in a private room with guardians. They cannot share in general dormitory rooms with people who are not part of their own group or family. Under-18s are not allowed in the bars or pubs.\\n\\n***The maximum stay policy is 14 days\\n\\n****Please note: non-refundable reservations will be fully charged at the time of booking.\", \"Safestay at Elephant & Castle is ideal if you are looking for budget accommodation in London, whether you see the sights in this amazing city or travelling with your family. If Tate Modern, the National Theatre, The Imperial War Museum, the London Aquarium, the London Dungeon, a cricket match at the Kia Oval or clubbing at the world-famous Ministry of Sound are on your must-do list, Safestay London Elephant & Castle is perfectly located.\\n\\nOur beautiful 18th-century Georgian building is centrally located, close to London's mighty River Thames and the restaurants, bars and cafes the Southbank is famed for, along with the London Eye, Borough Market and Shakespeare's Globe Theatre. It's secure, stylish, comfortable and fun, with an illuminated garden for you to relax in.\\n\\nSo if you're after budget accommodation in London, bringing a group of school children to study the sights or want something different from the usual options in London, why not try this fantastic hostel out for size.\\n\\nClose to all the big London tourist attractions, our staff will happily help you plan your visit and give you top tips on what is happening in London during your stay.\\n\\nSee these London landmarks within 6 stops of the hostel using the Underground:\\n. Oxford Street\\n. Piccadilly Circus\\n. Leicester Square\\n. Covent Garden\\n. Westminster Abbey\\n. Big Ben & the Houses of Parliament\\n. Buckingham Palace\\n. St Paul's Cathedral\\n. The Tower of London and Tower Bridge \\n\\nFREE WI-FI\\nFree across all areas\\n\\nBREAKFAST\\nEnjoy our packed breakfast served between 7:00 am and 10:00 am for only GBP 6.00\\n\\nTravelling with children? Cots are available on request. Please contact the hostel in advance to arrange.\\nLuggage storage subject to availability upon arrival and departure\\n\\nAttractions: We sell discounted and fast track entrance tickets to some of London's most famous sights and best kept secrets. Including the London Eye, Madame Tussauds, The Tower of London, Walking tours, Bike tours, boat trips, and many more.\\n\\nHostel Activities: We organise fun stuff for you to do nearly every day of the week! Such as Free Walking tours, top-rated Pub Crawls, Group trips to famous West End Shows, Jet boating on the Thames\", 'NA', \"Generator London is a design hotel-hostel located in Russell Square in the heart of central London, a short stroll to Covent Garden, Regents Park and trendy King's Cross. Guests can choose from shared dorms to private rooms, offering something for everyone. Complete with 24-hour reception, free wifi, cafe and bar Generator is a fun and affordable choice in London.\\n\\nGenerator London was the very first Generator and you'll find it in the area of Russell Square in the heart of the West End. \\n\\nIt's the ideal spot to enjoy London from, everything you need to see is minutes away by tube. You'll never run out of things to do in the UK's capital. You just have to decide where to start and we can help you with that. When you have seen and done it all for the day head back to Generator and unwind. \\n\\nIt's a destination in its own right and a great place to socialise and reflect on your experiences of the day. Head to the bar and chill out areas to get yourself a well deserved drink or two. It's lively, friendly and un-missable. We've also got great beds for sleepy heads and of course you'll be enjoying London life in the most authentic surroundings. \\n\\nChoose from a great selection of rooms, from Dorms, to Quads, to Private rooms with innovative mod cons. Fast and free Wi-Fi is all yours too. To get the most out of your stay visit the travel shop and our city experts will help you devise an itinerary that will take you to all the hidden treasures this dynamic city has to offer. You'll have to stay longer to fit it all in but you'll not need convincing of that. We'll see you there soon.\\n\\nImportant points:\\n\\n Central location Situated close to Russell Square\\n Complimentary Wi-Fi in public areas & guest bedrooms\\n Travel Desk\\n Luggage Store\\n Laundry Room\\n Games Room\\n Bar & Chill Out Areas\\n Nightly Events & Entertainment\\n Dining facilities for breakfast, lunch, dinner and all day snacks\\n Female Dormitories\\n Dormitories for 4, 6 & 8\\n Group bookings\\n\\nFREE WI-FI\\nStay connected. Free for all!\\n\\nTHE BAR\\nOrder a classic cocktail. Open from 5pm-2am with fun and games every night.\\n\\nTHE LOUNGE & CAFE \\nOpen everyday\\n\\nBREAKFAST\\n\\nBreakfast not included.\\nInternational breakfast available upon request: £6 if booked online.\\nDaily from 7 am to 11 am\\n\\nDINNER. \\nDelicious meals available between 5-9pm every evening. A dish of the day will also be available together with the bar snack menu.\\n\\nSNACKS\\nVending machines available for night owls to satisfy the midnight munchies.\\n\\nROOMS TO AMAZE\\nA wide selection of contemporary Privates, Twins, Triples & Dorms, with crisp white linen all available at great rates. Towels included complimentary in Twin rooms only.\\n\\nBATHROOMS\\nShared showers on every floor. \\n\\nLAUNDRY\\nOpen 24 hours a day where you can wash, dry and iron for a small fee.\\n\\n24 HOUR RECEPTION\\nNo need to worry about arriving late or early. The Generator Reception is open 24 hours a day with a duty manager who's always around to help.\\n\\nLUGGAGE STORE\\nSecure luggage room is available so you can sightsee without dragging your bag with you.\\n\\nPETS\\nWe would welcome a dog on property but only when staying in a private room/dorm, and subject to a £5 fee per dog per night.\\n\\nGREAT STAFF\\nAll our staff are multi lingual and on hand to help you with whatever info you need.\\n\\nTRAVEL SHOP\\nPurchase tickets, tours and a whole lot more including phone and postal service. We will help you make the most of your stay. Undecided? Take advantage of our complimentary guided walking tour available daily.\\n\\nUnfortunately guests under the age of 18 are not allowed to stay in the dorms .\\n\\nWe look forward to giving you a warm welcome to The Generator in the near future.\", 'NA']\n"
     ]
    }
   ],
   "source": [
    "print(hostel_name)\n",
    "print(ratings)\n",
    "print(total_reviews)\n",
    "print(overall_reviews)\n",
    "print(dorm_price)\n",
    "print(facility)\n",
    "print(property_des)"
   ]
  },
  {
   "cell_type": "code",
   "execution_count": 44,
   "id": "7368ea9a",
   "metadata": {},
   "outputs": [
    {
     "data": {
      "text/html": [
       "<div>\n",
       "<style scoped>\n",
       "    .dataframe tbody tr th:only-of-type {\n",
       "        vertical-align: middle;\n",
       "    }\n",
       "\n",
       "    .dataframe tbody tr th {\n",
       "        vertical-align: top;\n",
       "    }\n",
       "\n",
       "    .dataframe thead th {\n",
       "        text-align: right;\n",
       "    }\n",
       "</style>\n",
       "<table border=\"1\" class=\"dataframe\">\n",
       "  <thead>\n",
       "    <tr style=\"text-align: right;\">\n",
       "      <th></th>\n",
       "      <th>Hostel Name</th>\n",
       "      <th>Ratings</th>\n",
       "      <th>Total Review</th>\n",
       "      <th>Price</th>\n",
       "      <th>Facilities</th>\n",
       "      <th>Property Description</th>\n",
       "    </tr>\n",
       "  </thead>\n",
       "  <tbody>\n",
       "    <tr>\n",
       "      <th>0</th>\n",
       "      <td>St Christopher's Village</td>\n",
       "      <td>8.2</td>\n",
       "      <td>11021 Total Reviews</td>\n",
       "      <td>Rs2268.11</td>\n",
       "      <td>Free\\nLinen Included Free City Maps Free WiFi ...</td>\n",
       "      <td>COVID 19 Policy Update.\\nIn response to Corona...</td>\n",
       "    </tr>\n",
       "    <tr>\n",
       "      <th>1</th>\n",
       "      <td>Safestay London Elephant &amp; Castle</td>\n",
       "      <td>8.0</td>\n",
       "      <td>4074 Total Reviews</td>\n",
       "      <td>Rs2843.16</td>\n",
       "      <td>Free\\nLinen Included Free City Maps Free WiFi\\...</td>\n",
       "      <td>Safestay at Elephant &amp; Castle is ideal if you ...</td>\n",
       "    </tr>\n",
       "    <tr>\n",
       "      <th>2</th>\n",
       "      <td>Smart Camden Inn Hostel</td>\n",
       "      <td>8.5</td>\n",
       "      <td>2760 Total Reviews</td>\n",
       "      <td>Rs2569.18</td>\n",
       "      <td>Free\\nLinen Included Free City Maps Free WiFi\\...</td>\n",
       "      <td>NA</td>\n",
       "    </tr>\n",
       "    <tr>\n",
       "      <th>3</th>\n",
       "      <td>Generator London</td>\n",
       "      <td>7.8</td>\n",
       "      <td>6828 Total Reviews</td>\n",
       "      <td>Rs2951.55</td>\n",
       "      <td>Free\\nLinen Included Free City Maps Free WiFi ...</td>\n",
       "      <td>Generator London is a design hotel-hostel loca...</td>\n",
       "    </tr>\n",
       "    <tr>\n",
       "      <th>4</th>\n",
       "      <td>Urbany Hostel London</td>\n",
       "      <td>9.6</td>\n",
       "      <td>NA</td>\n",
       "      <td>Rs2944.53</td>\n",
       "      <td>Free\\nLinen Included Free WiFi\\nGeneral\\nSecur...</td>\n",
       "      <td>NA</td>\n",
       "    </tr>\n",
       "  </tbody>\n",
       "</table>\n",
       "</div>"
      ],
      "text/plain": [
       "                         Hostel Name Ratings         Total Review      Price  \\\n",
       "0           St Christopher's Village     8.2  11021 Total Reviews  Rs2268.11   \n",
       "1  Safestay London Elephant & Castle     8.0   4074 Total Reviews  Rs2843.16   \n",
       "2            Smart Camden Inn Hostel     8.5   2760 Total Reviews  Rs2569.18   \n",
       "3                   Generator London     7.8   6828 Total Reviews  Rs2951.55   \n",
       "4               Urbany Hostel London     9.6                   NA  Rs2944.53   \n",
       "\n",
       "                                          Facilities  \\\n",
       "0  Free\\nLinen Included Free City Maps Free WiFi ...   \n",
       "1  Free\\nLinen Included Free City Maps Free WiFi\\...   \n",
       "2  Free\\nLinen Included Free City Maps Free WiFi\\...   \n",
       "3  Free\\nLinen Included Free City Maps Free WiFi ...   \n",
       "4  Free\\nLinen Included Free WiFi\\nGeneral\\nSecur...   \n",
       "\n",
       "                                Property Description  \n",
       "0  COVID 19 Policy Update.\\nIn response to Corona...  \n",
       "1  Safestay at Elephant & Castle is ideal if you ...  \n",
       "2                                                 NA  \n",
       "3  Generator London is a design hotel-hostel loca...  \n",
       "4                                                 NA  "
      ]
     },
     "execution_count": 44,
     "metadata": {},
     "output_type": "execute_result"
    }
   ],
   "source": [
    "data=pd.DataFrame()\n",
    "data['Hostel Name']=hostel_name\n",
    "data['Ratings']=ratings\n",
    "data['Total Review']=total_reviews\n",
    "# data['Overall Review']=overall_reviews\n",
    "data['Price']=dorm_price\n",
    "data['Facilities']=facility\n",
    "data['Property Description']=property_des\n",
    "data\n"
   ]
  },
  {
   "cell_type": "code",
   "execution_count": 42,
   "id": "181a53ec",
   "metadata": {},
   "outputs": [
    {
     "data": {
      "text/plain": [
       "5"
      ]
     },
     "execution_count": 42,
     "metadata": {},
     "output_type": "execute_result"
    }
   ],
   "source": [
    "overall_reviews=[]\n",
    "\n",
    "for i in url[0:5]:\n",
    "    driver.get(i)\n",
    "    time.sleep(1)\n",
    "    try:\n",
    "        review= driver.execute_script(\"arguments[0].click();\", WebDriverWait(driver, 20).until(EC.element_to_be_clickable((By.XPATH, '//div[@class=\"reviews\"]'))))\n",
    "        time.sleep(1)\n",
    "        c=driver.find_element_by_xpath('//*[@id=\"__layout\"]/div/div[1]/section/div[13]/div[2]/div/div[2]/section[4]/div[1]/div[2]/div[1]/div[1]/div/div[2]/div/span')\n",
    "                                        \n",
    "        overall_reviews.append(c.text)\n",
    "    except NoSuchElementException:\n",
    "        overall_reviews.append(\"NA\")\n",
    "len(overall_reviews)"
   ]
  },
  {
   "cell_type": "code",
   "execution_count": 43,
   "id": "6e0e65e2",
   "metadata": {
    "scrolled": true
   },
   "outputs": [
    {
     "name": "stdout",
     "output_type": "stream",
     "text": [
      "['', 'NA', '', 'NA', 'NA']\n"
     ]
    }
   ],
   "source": [
    "print(overall_reviews)"
   ]
  },
  {
   "cell_type": "code",
   "execution_count": 37,
   "id": "03120251",
   "metadata": {},
   "outputs": [
    {
     "data": {
      "text/plain": [
       "['']"
      ]
     },
     "execution_count": 37,
     "metadata": {},
     "output_type": "execute_result"
    }
   ],
   "source": [
    "d=[]\n",
    "rw=driver.find_element_by_xpath('//div[@class=\"review review-item\"]')\n",
    "d.append(rw.text)\n",
    "d"
   ]
  },
  {
   "cell_type": "code",
   "execution_count": null,
   "id": "b824c0ce",
   "metadata": {},
   "outputs": [],
   "source": []
  },
  {
   "cell_type": "code",
   "execution_count": null,
   "id": "6faf95de",
   "metadata": {},
   "outputs": [],
   "source": [
    "//div[@class=\"review-notes body-2\"]"
   ]
  },
  {
   "cell_type": "code",
   "execution_count": null,
   "id": "cb7b741f",
   "metadata": {},
   "outputs": [],
   "source": []
  }
 ],
 "metadata": {
  "kernelspec": {
   "display_name": "Python 3 (ipykernel)",
   "language": "python",
   "name": "python3"
  },
  "language_info": {
   "codemirror_mode": {
    "name": "ipython",
    "version": 3
   },
   "file_extension": ".py",
   "mimetype": "text/x-python",
   "name": "python",
   "nbconvert_exporter": "python",
   "pygments_lexer": "ipython3",
   "version": "3.9.7"
  }
 },
 "nbformat": 4,
 "nbformat_minor": 5
}
